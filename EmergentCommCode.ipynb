{
  "nbformat": 4,
  "nbformat_minor": 0,
  "metadata": {
    "colab": {
      "name": "Emergent Comm",
      "version": "0.3.2",
      "provenance": [],
      "collapsed_sections": [],
      "toc_visible": true
    },
    "kernelspec": {
      "name": "python3",
      "display_name": "Python 3"
    },
    "accelerator": "GPU"
  },
  "cells": [
    {
      "metadata": {
        "id": "Bh3jWFuri8yS",
        "colab_type": "code",
        "colab": {}
      },
      "cell_type": "code",
      "source": [
        "import torch\n",
        "\n",
        "if torch.cuda.is_available(): import torch.cuda as t\n",
        "else: import torch as t\n",
        "  \n",
        "from torch import nn\n",
        "import torch.nn.functional as F\n",
        "\n",
        "device = torch.device('cuda' if torch.cuda.is_available() else 'cpu')\n",
        "\n",
        "import math, random\n",
        "\n",
        "import matplotlib.pyplot as plt"
      ],
      "execution_count": 0,
      "outputs": []
    },
    {
      "metadata": {
        "id": "jlqdiQr9sfKI",
        "colab_type": "text"
      },
      "cell_type": "markdown",
      "source": [
        "#### Globals"
      ]
    },
    {
      "metadata": {
        "id": "3TDQL0rQsgtL",
        "colab_type": "code",
        "colab": {}
      },
      "cell_type": "code",
      "source": [
        "PLOT_GRAPHS = True\n",
        "DEBUG_PRINT = True\n",
        "VERBOSE_RATE = 100"
      ],
      "execution_count": 0,
      "outputs": []
    },
    {
      "metadata": {
        "id": "_Kg-sy_ccCXR",
        "colab_type": "text"
      },
      "cell_type": "markdown",
      "source": [
        "### Hyperparameters"
      ]
    },
    {
      "metadata": {
        "id": "g3Uqt1-CphOb",
        "colab_type": "code",
        "colab": {}
      },
      "cell_type": "code",
      "source": [
        "#similar parameters to the comp paper\n",
        "# PHONEME_INVENTORY_SIZE = 16 + 1\n",
        "# VOCABULARY_SIZE = 48\n",
        "\n",
        "# SENTINEL_ID = PHONEME_INVENTORY_SIZE - 1\n",
        "# MAX_WORD_LENGTH = 4\n",
        "# PHONEMES = range(PHONEME_INVENTORY_SIZE-1) #exclude sentinel\n",
        "\n",
        "# input_size = PHONEME_INVENTORY_SIZE\n",
        "# embed_size = PHONEME_INVENTORY_SIZE\n",
        "# hidden_size = 256\n",
        "# goal_size = VOCABULARY_SIZE\n",
        "# n_layers = 1 #EncoderLSTM\n",
        "# dropout = 0.1\n",
        "# learning_rate = 1e-3\n",
        "\n",
        "\n",
        "PHONEME_INVENTORY_SIZE = 4 + 1\n",
        "VOCABULARY_SIZE = 10\n",
        "\n",
        "SENTINEL_ID = PHONEME_INVENTORY_SIZE - 1\n",
        "MAX_WORD_LENGTH = 4\n",
        "PHONEMES = range(PHONEME_INVENTORY_SIZE-1) #exclude sentinel\n",
        "\n",
        "input_size = PHONEME_INVENTORY_SIZE\n",
        "embed_size = PHONEME_INVENTORY_SIZE\n",
        "hidden_size = 256\n",
        "goal_size = VOCABULARY_SIZE\n",
        "n_layers = 1 #EncoderLSTM\n",
        "dropout = 0.1\n",
        "learning_rate = 1e-3\n",
        "\n",
        "batch_size = 10 #training\n",
        "GUMBEL_TAU = 0.5\n",
        "\n",
        "MAX_SEQLEN = 100"
      ],
      "execution_count": 0,
      "outputs": []
    },
    {
      "metadata": {
        "id": "VzDBG1xXcvDr",
        "colab_type": "text"
      },
      "cell_type": "markdown",
      "source": [
        "### Helper Fns"
      ]
    },
    {
      "metadata": {
        "id": "y1-s3yS7rJIz",
        "colab_type": "code",
        "colab": {}
      },
      "cell_type": "code",
      "source": [
        "#Helper functions\n",
        "\n",
        "def one_hot(integers, k):\n",
        "  to_return = t.FloatTensor(len(integers),k).fill_(0)\n",
        "  to_return[range(len(integers)), integers] = 1\n",
        "  return to_return\n",
        "\n",
        "def idx_one_hot(one_hots, dim = 1):\n",
        "  '''\n",
        "  :param one_hots:\n",
        "    batch 1 hots in shape of [B,K]\n",
        "  '''\n",
        "  \n",
        "  return [i.item() for i in torch.argmax(one_hots, dim)]\n",
        "\n",
        "\n",
        "def generate_random_word():\n",
        "    length = random.choice(range(1, MAX_WORD_LENGTH+1))\n",
        "    word = [random.choice(PHONEMES) for _ in range(length)]\n",
        "    return word\n",
        "\n",
        "def generate_random_vocabulary():\n",
        "    words = [generate_random_word() for _ in range(VOCABULARY_SIZE)]\n",
        "    return {i:word for i, word in enumerate(words)}\n",
        "\n",
        "def agent_seq_prob(meaning, target, speaker):\n",
        "  prob = 1.\n",
        "  for t_step in range(len(target)):\n",
        "    so_far = target[:t_step,:,:] #[t,B,P]\n",
        "    target_a = torch.argmax(target[t_step,0])\n",
        "    a_distro = speaker(so_far, meaning) #[B,P] probability distribution of phonemes\n",
        "    prob *= a_distro[0,target_a] \n",
        "\n",
        "  return prob\n",
        "\n",
        "def utterance_to_feats(utterance, size): #currently B = 1\n",
        "  utterance_feats = t.FloatTensor().view(0,1,size)\n",
        "  for a in utterance:\n",
        "    utterance_feats = torch.cat((utterance_feats,one_hot([a],size).unsqueeze(0)))\n",
        "  return utterance_feats\n",
        "  "
      ],
      "execution_count": 0,
      "outputs": []
    },
    {
      "metadata": {
        "id": "zaTQkOkZbnro",
        "colab_type": "text"
      },
      "cell_type": "markdown",
      "source": [
        "### Attention RNN Model"
      ]
    },
    {
      "metadata": {
        "id": "Ic1Su6EnjFUe",
        "colab_type": "code",
        "colab": {}
      },
      "cell_type": "code",
      "source": [
        "class AttentionRNN(nn.Module):\n",
        "  '''\n",
        "  Seq -> [LSTM] -> Context (+ goal) -> [AttnNN] -> AttentionContext (+ goal)-> [DecoderNN] -> Softmax Distribution\n",
        "  \n",
        "  For agent: seq so far + goal --> action distribution\n",
        "  For listener: seq from agent --> goal distribution\n",
        "  '''\n",
        "  \n",
        "  def __init__(self,  lstm_input_size, embed_size, hidden_size,\n",
        "                      decoder_layer_dims, decoder_activation_fn, \n",
        "                      goal_input_size = 0,\n",
        "                      lstm_layers=1, lstm_dropout=0.5, lstm_bidirectional = True):\n",
        "    '''\n",
        "    :input_size:\n",
        "      sequence element vector length (for agent, each element is a phoneme, so input_size would be PHONEME_SIZE)\n",
        "    :embed_size:\n",
        "      i set it equal to input_size\n",
        "    :hidden_size:\n",
        "      vector length for hidden state\n",
        "    '''\n",
        "    super(AttentionRNN, self).__init__()\n",
        "    self.hidden_size = hidden_size\n",
        "    self.goal_input_size = goal_input_size\n",
        "    self.input_size = lstm_input_size\n",
        "    \n",
        "    ''' SEQ ENCODER (LSTM)'''\n",
        "    self.embedding = nn.Linear(lstm_input_size, embed_size, bias = False)\n",
        "    self.lstm = nn.LSTM(embed_size, hidden_size, lstm_layers, dropout=dropout, bidirectional=lstm_bidirectional)\n",
        "    \n",
        "    ''' ATTN NN '''\n",
        "    self.attn = nn.Linear(self.hidden_size + goal_input_size, hidden_size)\n",
        "    self.v = nn.Parameter(t.FloatTensor(hidden_size).uniform_(0,1))\n",
        "    stdv = 1. / math.sqrt(self.v.size(0))\n",
        "    self.v.data.normal_(mean=0, std=stdv)\n",
        "    \n",
        "    ''' CONTEXT DECODER NN'''\n",
        "    decoder_layer_dims[0] += goal_input_size\n",
        "    self.hidden_layers = nn.ModuleList([nn.Linear(decoder_layer_dims[i],decoder_layer_dims[i+1]) for i in range(len(decoder_layer_dims)-1)])\n",
        "    self.activation_fn = decoder_activation_fn\n",
        "\n",
        "    \n",
        "        \n",
        "  def forward(self, input_seq, goal = None):\n",
        "    \n",
        "    \n",
        "    ''' SEQ ENCODER '''\n",
        "    if(len(input_seq) == 0):\n",
        "      encoder_outputs = t.FloatTensor(1,input_seq.shape[1], self.hidden_size).fill_(0) #initial h0\n",
        "    else:\n",
        "      embedded = self.embedding(input_seq) #[T,B,E]\n",
        "      encoder_outputs, _ = self.lstm(embedded, None) #outputs : (T, B, (2*)H)\n",
        "      encoder_outputs = encoder_outputs[:, :, :self.hidden_size] + encoder_outputs[:, :, self.hidden_size:]  # Sum bidirectional outputs\n",
        "\n",
        "    \n",
        "    ''' ATTN NN '''\n",
        "    max_len = encoder_outputs.size(0)\n",
        "    this_batch_size = encoder_outputs.size(1)\n",
        "    encoder_outputs = encoder_outputs.transpose(0,1) # [B*T*H]\n",
        "    \n",
        "    if(self.goal_input_size != 0): #g:(B,G)\n",
        "      goal_expanded = goal.float().repeat(encoder_outputs.shape[1],1,1).transpose(1,0) #(B,G) => (T,B,G) => (B,T,G)\n",
        "      inp = torch.cat((encoder_outputs, goal_expanded),2) #[B,T,H] <concat> [B,T,G] ==> [B,T,(H+G)]\n",
        "    else:\n",
        "      inp = encoder_outputs\n",
        "    energy = self.attn(inp)\n",
        "    energy = energy.transpose(2,1) # [B*H*T]\n",
        "    v = self.v.repeat(encoder_outputs.data.shape[0],1).unsqueeze(1) #[B*1*H]\n",
        "    energy = torch.bmm(v, energy) # [B*1*T]\n",
        "    attn_energies = energy.squeeze(1) #[B*T]\n",
        "    \n",
        "    \n",
        "    ''' CONTEXT DECODER '''\n",
        "    attn_weights = F.softmax(attn_energies, dim = 1).unsqueeze(1) # normalize with softmax #[B,1,T] \n",
        "    context = attn_weights.bmm(encoder_outputs)  # [B,1,T].bmm([B,T,H]) ==> (B,1,H)\n",
        "    context = context.transpose(0, 1).squeeze(0)  # (B,H)\n",
        "\n",
        "    if(self.goal_input_size != 0): #g:(B,G)\n",
        "      inp = torch.cat((context, goal),1) #(B,H+G)\n",
        "    else:\n",
        "      inp = context\n",
        "      \n",
        "    x = self.activation_fn(self.hidden_layers[0](inp))\n",
        "    for i in range(1,len(self.hidden_layers)-1):\n",
        "      x = self.activation_fn(self.hidden_layers[i](x))\n",
        "    x = self.hidden_layers[-1](x)\n",
        "\n",
        "    return F.softmax(x, dim = 1) #[B,P] -- distro for each batch item"
      ],
      "execution_count": 0,
      "outputs": []
    },
    {
      "metadata": {
        "id": "uzBAmc_8puE_",
        "colab_type": "text"
      },
      "cell_type": "markdown",
      "source": [
        "### agent_generate_utterance()"
      ]
    },
    {
      "metadata": {
        "id": "HlztNFPfuiB4",
        "colab_type": "code",
        "colab": {}
      },
      "cell_type": "code",
      "source": [
        "# Have the agent forward-sample a sequence\n",
        "def agent_generate_utterance(meaning, speaker, use_gumbel_softmax = True, include_sentinel = False):\n",
        "  '''\n",
        "  :meaning:\n",
        "    in shape of [B = 1, G] (one-hot)\n",
        "  '''\n",
        "  so_far = t.FloatTensor().view(0,1,speaker.input_size)\n",
        "  \n",
        "  total_ent = t.FloatTensor().view(0,1)\n",
        "  \n",
        "  max_seq_length = MAX_SEQLEN\n",
        "  \n",
        "  while True:\n",
        "    #input_seq = so_far.long().unsqueeze(1) #[t] ==> [t,1]\n",
        "      \n",
        "    #encoder\n",
        "    a_distro = speaker(so_far, meaning) #[B,P]\n",
        "    ent = (-a_distro * torch.log(a_distro.squeeze(0))).sum(dim = 1)\n",
        "    \n",
        "    #NOTE:\n",
        "    #this will cause speaker to minimize p(eos) and produce infinitely long utterances if ent_reg\n",
        "    #even if you manually average entropy\n",
        "    #total_ent += ent \n",
        "    total_ent = torch.cat((total_ent, ent.unsqueeze(0)))\n",
        "    \n",
        "    \n",
        "    #sample from a_distro\n",
        "    if(use_gumbel_softmax):\n",
        "      sampled_a = F.gumbel_softmax(a_distro, tau = GUMBEL_TAU, hard = True)#[B,P]\n",
        "    else:\n",
        "      sampled_a = one_hot(torch.distributions.Categorical(a_distro).sample(), speaker.input_size) #[B=1,P]\n",
        "    \n",
        "    \n",
        "    #update so_far\n",
        "    if torch.argmax(sampled_a, dim = 1)[0] == SENTINEL_ID:\n",
        "      if(include_sentinel):\n",
        "        so_far = torch.cat((so_far,sampled_a.unsqueeze(0))) \n",
        "      break\n",
        "    else:\n",
        "      so_far = torch.cat((so_far,sampled_a.unsqueeze(0))) #update sequences\n",
        "    \n",
        "    if(len(so_far) >= max_seq_length):\n",
        "      print(f\"WARNING: Utterance > {max_seq_length}\")\n",
        "      if(include_sentinel):\n",
        "        so_far = torch.cat((so_far,one_hot([SENTINEL_ID],speaker.input_size).view(1,1,-1))) \n",
        "      break\n",
        "      \n",
        "#   if DEBUG_PRINT: print(len(so_far))\n",
        "  return so_far, total_ent.mean(dim = 0)"
      ],
      "execution_count": 0,
      "outputs": []
    },
    {
      "metadata": {
        "id": "F87yylCMb67T",
        "colab_type": "text"
      },
      "cell_type": "markdown",
      "source": [
        "### train_joint()"
      ]
    },
    {
      "metadata": {
        "id": "uqqKguHxb5uU",
        "colab_type": "code",
        "colab": {}
      },
      "cell_type": "code",
      "source": [
        "def train_joint(meanings, speaker, listener, opt, batch_size, num_epochs, ent_reg_value = 0.01, ent_regularization = False):\n",
        "\n",
        "  graph_plots = []\n",
        "  verbose_rate = VERBOSE_RATE\n",
        "  \n",
        "  pos = 0\n",
        "    \n",
        "  avg_nll_loss = 0.0\n",
        "  avg_ent = 0.0\n",
        "  utt_len = 0.0\n",
        "  \n",
        "  for epoch in range(1, num_epochs+1):\n",
        "    loss = 0.0\n",
        "    \n",
        "    random.shuffle(meanings)\n",
        "\n",
        "    for i in range(batch_size):\n",
        "      i%=len(meanings)\n",
        "      \n",
        "      #sample utterance from agent u~A(g)\n",
        "      g = one_hot([meanings[i]], len(meanings))\n",
        "      utterance,ent = agent_generate_utterance(g, speaker)\n",
        "      utt_len += len(utterance)\n",
        "      \n",
        "      #listener predict p(g|u)\n",
        "      g_distro = listener(utterance) #[B = 1, G]\n",
        "\n",
        "      #loss\n",
        "      nll = -torch.log(g_distro)[0][meanings[i]]\n",
        "      avg_ent += float(ent.item())\n",
        "      ent = ent_reg_value*ent\n",
        "      loss += nll - ent\n",
        "      avg_nll_loss += float(nll.item())\n",
        "\n",
        "\n",
        "    #update gradients\n",
        "    loss /= batch_size\n",
        "    loss.backward()\n",
        "    opt.step()\n",
        "    opt.zero_grad()\n",
        "    \n",
        "    if (epoch % 25 == 0):\n",
        "      epoch_loss = avg_nll_loss/(verbose_rate*batch_size)\n",
        "      epoch_ent = avg_ent/(verbose_rate*batch_size)\n",
        "      \n",
        "      acc = eval_exp(meanings,speaker,listener).values()\n",
        "      acc_num = round(sum(acc)/len(acc),4)\n",
        "      if (epoch % verbose_rate == 0): \n",
        "        print(f\"Epoch {epoch}, acc: {acc_num}, avg nll loss: {round(epoch_loss,4)}, avg ent: {round(epoch_ent,4)}, avg utterance length: {utt_len/(verbose_rate*batch_size)}\")\n",
        "        print(f\"\\taccuracy (Total): {acc_num}, (Indi): {acc}\\n\")\n",
        "   \n",
        "      #save for graph\n",
        "      if(PLOT_GRAPHS): \n",
        "        graph_plots.append((epoch, acc_num, epoch_loss, epoch_ent))\n",
        "\n",
        "      avg_nll_loss = 0.0\n",
        "      avg_ent = 0.0\n",
        "      utt_len = 0.0\n",
        "  \n",
        "  return graph_plots"
      ],
      "execution_count": 0,
      "outputs": []
    },
    {
      "metadata": {
        "id": "hKmKz06-CKTp",
        "colab_type": "text"
      },
      "cell_type": "markdown",
      "source": [
        "### train_joint_rl()"
      ]
    },
    {
      "metadata": {
        "id": "FwPSQnHjG65w",
        "colab_type": "code",
        "colab": {}
      },
      "cell_type": "code",
      "source": [
        "def speaker_loss(meaning_1h, tgt_utterance_feats, speaker):\n",
        "  loss = 0.0\n",
        "  total_ent = t.FloatTensor().view(0,1)\n",
        "  loss = t.FloatTensor(len(tgt_utterance_feats)).fill_(0)\n",
        "  for i in range(len(tgt_utterance_feats)): #sequence length including sentinel\n",
        "    \n",
        "    a_distro = speaker(tgt_utterance_feats[:i], meaning_1h)\n",
        "    target_a = torch.argmax(tgt_utterance_feats[i].squeeze(0))\n",
        "    \n",
        "    ent = (-a_distro * torch.log(a_distro.squeeze(0))).sum(dim = 1)\n",
        "    total_ent = torch.cat((total_ent, ent.unsqueeze(0)))\n",
        "    \n",
        "    loss[i] = -torch.log(a_distro[0][target_a])\n",
        "  return loss.mean(), total_ent.mean(dim = 0)\n",
        "\n",
        "def listener_loss(utterance_feats, tgt_meaning, listener):\n",
        "  g_distro = listener(utterance_feats)\n",
        "  return -torch.log(g_distro[0][tgt_meaning])\n",
        "    "
      ],
      "execution_count": 0,
      "outputs": []
    },
    {
      "metadata": {
        "id": "sM8gls9hBDtl",
        "colab_type": "code",
        "colab": {}
      },
      "cell_type": "code",
      "source": [
        "def train_joint_rl(meanings, speaker, listener, opt, batch_size, num_epochs, ent_reg_value = 0.01):\n",
        "  '''\n",
        "  [1] run 1 simulation step:\n",
        "        i.    sample utterance from speaker given goal\n",
        "        ii.   sample predicted goal from listener given speaker's utterance\n",
        "\n",
        "  [2] define reward:\n",
        "        i.    1 if matching goals else 0\n",
        "        ii.   is there a softer reward function? a proxy reward function?\n",
        "  \n",
        "  [3] define loss\n",
        "        i.    obtain NLL loss (using a_distro) for speaker given sampled utterance (target)\n",
        "        ii.   obtain NLL loss (using g_distro) for listener given sampled predicted goal (target)\n",
        "        iii.  sum the separate reward-scale NLL loss for speaker and listener\n",
        "        iv.   add low-entropy loss (to maximize entropy)\n",
        "        (v).  subtract baseline from reward\n",
        "        \n",
        "  '''\n",
        "  graph_plots = []\n",
        "  verbose_rate = VERBOSE_RATE\n",
        "  \n",
        "  epoch_loss = 0.0\n",
        "  epoch_ent = 0.0\n",
        "  utt_len = 0.0\n",
        "  \n",
        "  meanings = list(meanings)\n",
        "  \n",
        "  acc = eval_exp(meanings,speaker,listener).values()\n",
        "  print(f\"\\taccuracy ({sum(acc)/len(acc)}): {acc}\")\n",
        "    \n",
        "  for epoch in range(1, n_epochs+1):\n",
        "    random.shuffle(meanings)\n",
        "    loss = 0.0\n",
        "    batch_ent = 0.0\n",
        "    \n",
        "    for i in range(batch_size):\n",
        "      i%=len(meanings)\n",
        "      meaning = meanings[i]\n",
        "      meaning_1h = one_hot([meaning], len(meanings))\n",
        "\n",
        "      #[1] run sim\n",
        "      with torch.no_grad():\n",
        "        sampled_utterance, _ = agent_generate_utterance(meaning_1h, speaker, use_gumbel_softmax = False, include_sentinel = True) #should we use gumbel for sim?\n",
        "        g_distro = listener(sampled_utterance[:-1])\n",
        "        sampled_g = torch.distributions.Categorical(g_distro).sample().squeeze(0)\n",
        "        #sampled_g_1h = one_hot(torch.distributions.Categorical(g_distro).sample(), len(meanings)) #[B=1,P]\n",
        "        utt_len += len(sampled_utterance[:-1])\n",
        "\n",
        "      #[2] define reward\n",
        "      reward = 1 if sampled_g == meaning else 0\n",
        "\n",
        "      #[3] loss\n",
        "      speaker_l, ent = speaker_loss(meaning_1h, sampled_utterance, speaker)\n",
        "      listener_l = listener_loss(sampled_utterance[:-1], meaning, listener)\n",
        "      loss += ((speaker_l + listener_l) * reward) - (ent_reg_value*ent)\n",
        "      batch_ent += ent.item()\n",
        "      \n",
        "    #[4] backprop\n",
        "    loss /= batch_size\n",
        "    loss.backward()\n",
        "    opt.step()\n",
        "    opt.zero_grad()\n",
        "    \n",
        "    \n",
        "    epoch_loss += loss.item()\n",
        "    epoch_ent += batch_ent/batch_size\n",
        "    if (epoch % 25 == 0):\n",
        "      epoch_loss = round(epoch_loss/verbose_rate,4)\n",
        "      epoch_ent = round(epoch_ent/verbose_rate,4)\n",
        "      acc = eval_exp(meanings,speaker,listener).values()\n",
        "      acc_num = round(sum(acc)/len(acc),4)\n",
        "      if (epoch % verbose_rate == 0):\n",
        "        print(f\"Epoch {epoch}, loss: {epoch_loss}, speaker ent: {epoch_ent}, avg u length: {utt_len/(verbose_rate*batch_size)}\")\n",
        "        print(f\"\\taccuracy (Total): {acc_num}, (Indi): {acc}\\n\")\n",
        "      \n",
        "      #save for graph\n",
        "      if(PLOT_GRAPHS): graph_plots.append((epoch,acc_num, epoch_loss,epoch_ent))\n",
        "        \n",
        "      epoch_loss = 0.0\n",
        "      epoch_ent = 0.0\n",
        "      utt_len = 0.0\n",
        "      \n",
        "  return graph_plots\n",
        "  "
      ],
      "execution_count": 0,
      "outputs": []
    },
    {
      "metadata": {
        "id": "BFS9_yHvdezg",
        "colab_type": "text"
      },
      "cell_type": "markdown",
      "source": [
        "### train_speaker()"
      ]
    },
    {
      "metadata": {
        "id": "SDXVrrdJdhdG",
        "colab_type": "code",
        "colab": {}
      },
      "cell_type": "code",
      "source": [
        "\n",
        "def score_speaker(meaning, target, speaker):\n",
        "  '''\n",
        "  Cross-entropy loss\n",
        "  \n",
        "  :meaning:\n",
        "    in shape of [B = 1, G] (one-hot)\n",
        "  :target:\n",
        "    in shape of [T,B,P] (msg_feats)\n",
        "    \n",
        "  '''\n",
        "  loss = t.FloatTensor(len(target)).fill_(0)\n",
        "  for i in range(len(target)):\n",
        "    a_distro = speaker(target[:i], meaning)\n",
        "    target_a = torch.argmax(target[i].squeeze(0))\n",
        "    loss[i] =  -torch.log(a_distro[0,target_a]) #cross-entropy loss\n",
        "  return loss.mean()\n",
        "\n",
        "\n",
        "    \n",
        "def train_speaker(vocab, speaker, opt, batch_size, n_epochs):\n",
        "  '''\n",
        "  :vocab:\n",
        "    {goal:utterance}\n",
        "  '''\n",
        "  graph_plots = []\n",
        "  \n",
        "  vocab_list = list(vocab.items())\n",
        "  n_vocab = len(vocab_list)\n",
        "  \n",
        "  for e in range(1,n_epochs+1):\n",
        "    loss = 0.0\n",
        "    \n",
        "    random.shuffle(vocab_list)\n",
        "    mini_batch = vocab_list[:batch_size]\n",
        "\n",
        "    for i in range(batch_size):\n",
        "      g, target_utterance = mini_batch[i%len(mini_batch)]\n",
        "      g = one_hot([g],n_vocab) \n",
        "      target_utterance = utterance_to_feats(target_utterance+[SENTINEL_ID], speaker.input_size)\n",
        "      loss += score_speaker(g, target_utterance, speaker)\n",
        "\n",
        "    loss /= batch_size\n",
        "    loss.backward()\n",
        "    opt.step()\n",
        "    opt.zero_grad()\n",
        "    \n",
        "    if(e%25 == 0): \n",
        "      print(f\"epoch {e}: loss {loss.item()}\")\n",
        "      if(PLOT_GRAPHS): graph_plots.append((e,loss.item()))\n",
        "\n",
        "  print(f\"epoch {e}: loss {loss.item()}\")\n",
        "  \n",
        "  return graph_plots"
      ],
      "execution_count": 0,
      "outputs": []
    },
    {
      "metadata": {
        "id": "_D8CWJQXdlHk",
        "colab_type": "text"
      },
      "cell_type": "markdown",
      "source": [
        "### train_listener()"
      ]
    },
    {
      "metadata": {
        "id": "0cuPtPwsdjQq",
        "colab_type": "code",
        "colab": {}
      },
      "cell_type": "code",
      "source": [
        "def score_listener(utterance, target, listener):\n",
        "  '''\n",
        "  :utterance:\n",
        "    in shape of [T,B,P] (msg_feats)\n",
        "  :target:\n",
        "    goal id (int)\n",
        "  '''\n",
        "  loss = 0.0\n",
        "  g_distro = listener(utterance)\n",
        "  return -torch.log(g_distro)[0][target] #cross-entropy loss\n",
        "\n",
        "def train_listener(vocab, listener, opt, batch_size, n_epochs):\n",
        "  '''\n",
        "  :vocab:\n",
        "    {goal:utterance}\n",
        "  '''\n",
        "  graph_plots = []\n",
        "  vocab_list = list(vocab.items())\n",
        "  n_vocab = len(vocab_list)\n",
        "  \n",
        "  for e in range(1,n_epochs+1):\n",
        "    loss = 0.0\n",
        "    \n",
        "    random.shuffle(vocab_list)\n",
        "    mini_batch = vocab_list[:batch_size]\n",
        "\n",
        "    for i in range(batch_size):\n",
        "      target_g, utterance = mini_batch[i%len(mini_batch)]\n",
        "      utterance = utterance_to_feats(utterance, listener.input_size)\n",
        "      loss += score_listener(utterance, target_g, listener)\n",
        "\n",
        "    loss /= batch_size\n",
        "    loss.backward()\n",
        "    opt.step()\n",
        "    opt.zero_grad()\n",
        "    \n",
        "    if(e%25 == 0): \n",
        "      print(f\"epoch {e}: loss {loss.item()}\")\n",
        "      if(PLOT_GRAPHS): graph_plots.append((e,loss.item()))\n",
        "        \n",
        "  print(f\"epoch {e}: loss {loss.item()}\")\n",
        "  return graph_plots"
      ],
      "execution_count": 0,
      "outputs": []
    },
    {
      "metadata": {
        "id": "-uAUheO2cXZn",
        "colab_type": "text"
      },
      "cell_type": "markdown",
      "source": [
        "### eval()"
      ]
    },
    {
      "metadata": {
        "id": "bC2uLSt91Is9",
        "colab_type": "code",
        "colab": {}
      },
      "cell_type": "code",
      "source": [
        "def eval_exp(meanings, speaker, listener, n_trials = 100):\n",
        "  with torch.no_grad():\n",
        "    meaning_accs = {}\n",
        "    for meaning in meanings:\n",
        "      g = one_hot([meaning], len(meanings))\n",
        "      acc = 0.0\n",
        "      for i in range(n_trials):\n",
        "        \n",
        "        #if we don't use gumbel, it gets stuck??\n",
        "        utterance,_ = agent_generate_utterance(g, speaker, use_gumbel_softmax = True) \n",
        "        \n",
        "        #listener predict p(g|u)\n",
        "        #pred_g = torch.argmax(listener(utterance).squeeze(0)) #[B = 1, G]\n",
        "        pred_g = torch.distributions.Categorical(listener(utterance).squeeze(0)).sample()\n",
        "        \n",
        "        acc += int(pred_g == meaning)\n",
        "      acc /= n_trials\n",
        "      meaning_accs[meaning] = acc\n",
        "  return meaning_accs\n",
        "\n",
        "def eval_speaker(vocab, speaker):\n",
        "  corrects = []\n",
        "  incorrects = []\n",
        "  for g in vocab:\n",
        "    g_1h = one_hot([g], len(vocab))\n",
        "    utterance_feats,_ = agent_generate_utterance(g_1h, speaker, use_gumbel_softmax = False, include_sentinel = True)\n",
        "    produced = torch.argmax(utterance_feats.squeeze(1), dim = 1)\n",
        "    if(len(vocab[g]+[SENTINEL_ID]) == len(produced) and torch.all(torch.eq(t.FloatTensor(vocab[g]+[SENTINEL_ID]),produced.float()))):\n",
        "      corrects.append( (g, vocab[g]+[SENTINEL_ID], produced) )\n",
        "    else:\n",
        "      incorrects.append( (g, vocab[g]+[SENTINEL_ID], produced) )\n",
        "    \n",
        "  return corrects, incorrects\n",
        "\n",
        "def eval_listener(vocab, listener):\n",
        "  corrects = []\n",
        "  incorrects = []\n",
        "  \n",
        "  for g in vocab:\n",
        "    utterance = utterance_to_feats(vocab[g],listener.input_size)\n",
        "    g_distro = listener(utterance).squeeze(0)\n",
        "    sampled_g = torch.distributions.Categorical(g_distro).sample()\n",
        "    if(g == sampled_g):\n",
        "      corrects.append( (g, sampled_g, g_distro[g], vocab[g]) )\n",
        "    else:\n",
        "      incorrects.append( (g, sampled_g, g_distro[g], vocab[g]) )\n",
        "  return corrects, incorrects\n"
      ],
      "execution_count": 0,
      "outputs": []
    },
    {
      "metadata": {
        "id": "H2K3T8e3cGpO",
        "colab_type": "text"
      },
      "cell_type": "markdown",
      "source": [
        "### Agent initializations"
      ]
    },
    {
      "metadata": {
        "id": "p89z6AiiPecP",
        "colab_type": "code",
        "colab": {}
      },
      "cell_type": "code",
      "source": [
        "# speaker = AttentionRNN(lstm_input_size = input_size, embed_size = embed_size, hidden_size = hidden_size,\n",
        "#                      decoder_layer_dims = [hidden_size,hidden_size,PHONEME_INVENTORY_SIZE], decoder_activation_fn = torch.tanh, \n",
        "#                      goal_input_size = goal_size,\n",
        "#                      lstm_layers=1, lstm_dropout=0.5, lstm_bidirectional = True).to(device)\n",
        "\n",
        "# listener = AttentionRNN(lstm_input_size = input_size, embed_size = embed_size, hidden_size = hidden_size,\n",
        "#                      decoder_layer_dims = [hidden_size,hidden_size,VOCABULARY_SIZE], decoder_activation_fn = torch.tanh, \n",
        "#                      goal_input_size = 0,\n",
        "#                      lstm_layers=1, lstm_dropout=0.5, lstm_bidirectional = True).to(device)\n",
        "\n",
        "# params = list(speaker.parameters()) + list(listener.parameters())\n",
        "# optimizer = torch.optim.Adam(params, lr = learning_rate, weight_decay = .0001)\n"
      ],
      "execution_count": 0,
      "outputs": []
    },
    {
      "metadata": {
        "id": "kSKegQmkcNTk",
        "colab_type": "text"
      },
      "cell_type": "markdown",
      "source": [
        "### Run (Sanity Tests)"
      ]
    },
    {
      "metadata": {
        "id": "nNkeszgEQiGa",
        "colab_type": "code",
        "colab": {
          "base_uri": "https://localhost:8080/",
          "height": 728
        },
        "outputId": "aa3ae70d-e271-4ce0-e733-9d0ec8b03160"
      },
      "cell_type": "code",
      "source": [
        "'''\n",
        "Train speaker only\n",
        "'''\n",
        "speaker = AttentionRNN(lstm_input_size = input_size, embed_size = embed_size, hidden_size = hidden_size,\n",
        "                     decoder_layer_dims = [hidden_size,hidden_size,PHONEME_INVENTORY_SIZE], decoder_activation_fn = torch.tanh, \n",
        "                     goal_input_size = goal_size,\n",
        "                     lstm_layers=n_layers, lstm_dropout=dropout, lstm_bidirectional = True).to(device)\n",
        "\n",
        "params = list(speaker.parameters())\n",
        "optimizer = torch.optim.Adam(params, lr = learning_rate, weight_decay = .0001)\n",
        "\n",
        "vocab = generate_random_vocabulary()\n",
        "\n",
        "n_epochs = 500\n",
        "\n",
        "corrects, incorrects = eval_speaker(vocab, speaker)\n",
        "print(f\"(Before) Acurracy: {len(corrects)/len(vocab)}\")\n",
        "\n",
        "\n",
        "graph_plots = train_speaker(vocab, speaker, optimizer, batch_size, n_epochs)\n",
        "\n",
        "corrects, incorrects = eval_speaker(vocab, speaker)\n",
        "print(f\"(After) Acurracy: {len(corrects)/len(vocab)}\")\n",
        "#plotting graphs\n",
        "x = []\n",
        "y = []\n",
        "for epoch, loss in graph_plots:\n",
        "  x.append(epoch)\n",
        "  y.append(loss)\n",
        "\n",
        "plt.plot(x,y)\n",
        "plt.xlabel('epochs')\n",
        "plt.ylabel('loss')\n",
        "plt.show()"
      ],
      "execution_count": 34,
      "outputs": [
        {
          "output_type": "stream",
          "text": [
            "/usr/local/lib/python3.6/dist-packages/torch/nn/modules/rnn.py:46: UserWarning: dropout option adds dropout after all but last recurrent layer, so non-zero dropout expects num_layers greater than 1, but got dropout=0.1 and num_layers=1\n",
            "  \"num_layers={}\".format(dropout, num_layers))\n"
          ],
          "name": "stderr"
        },
        {
          "output_type": "stream",
          "text": [
            "(Before) Acurracy: 0.0\n",
            "epoch 25: loss 1.846883773803711\n",
            "epoch 50: loss 1.2737830877304077\n",
            "epoch 75: loss 0.6299797892570496\n",
            "epoch 100: loss 0.31220191717147827\n",
            "epoch 125: loss 0.1722346544265747\n",
            "epoch 150: loss 0.10636670887470245\n",
            "epoch 175: loss 0.07166726142168045\n",
            "epoch 200: loss 0.051571089774370193\n",
            "epoch 225: loss 0.03903583437204361\n",
            "epoch 250: loss 0.030699705705046654\n",
            "epoch 275: loss 0.024887023493647575\n",
            "epoch 300: loss 0.020670581609010696\n",
            "epoch 325: loss 0.017506716772913933\n",
            "epoch 350: loss 0.015065639279782772\n",
            "epoch 375: loss 0.013139274902641773\n",
            "epoch 400: loss 0.011591004207730293\n",
            "epoch 425: loss 0.010327683761715889\n",
            "epoch 450: loss 0.009282978251576424\n",
            "epoch 475: loss 0.0084083778783679\n",
            "epoch 500: loss 0.007667699363082647\n",
            "epoch 500: loss 0.007667699363082647\n",
            "(After) Acurracy: 1.0\n"
          ],
          "name": "stdout"
        },
        {
          "output_type": "display_data",
          "data": {
            "image/png": "[encoded data removed]",
            "text/plain": [
              "<Figure size 432x288 with 1 Axes>"
            ]
          },
          "metadata": {
            "tags": []
          }
        }
      ]
    },
    {
      "metadata": {
        "id": "qWZQG975dIsE",
        "colab_type": "code",
        "colab": {
          "base_uri": "https://localhost:8080/",
          "height": 728
        },
        "outputId": "32d9846a-0479-4718-c3c9-2ef8c570233c"
      },
      "cell_type": "code",
      "source": [
        "'''\n",
        "Train listener\n",
        "'''\n",
        "\n",
        "listener = AttentionRNN(lstm_input_size = input_size, embed_size = embed_size, hidden_size = hidden_size,\n",
        "                     decoder_layer_dims = [hidden_size,hidden_size,VOCABULARY_SIZE], decoder_activation_fn = torch.tanh, \n",
        "                     goal_input_size = 0,\n",
        "                     lstm_layers=1, lstm_dropout=dropout, lstm_bidirectional = True).to(device)\n",
        "\n",
        "params = list(listener.parameters())\n",
        "optimizer = torch.optim.Adam(params, lr = learning_rate, weight_decay = .0001)\n",
        "\n",
        "vocab = generate_random_vocabulary()\n",
        "\n",
        "\n",
        "n_epochs = 500\n",
        "\n",
        "corrects, incorrects = eval_listener(vocab, listener)\n",
        "print(f\"(Before) Acurracy: {len(corrects)/len(vocab)}\")\n",
        "\n",
        "graph_plots = train_listener(vocab, listener, optimizer, batch_size, n_epochs)\n",
        "\n",
        "corrects, incorrects = eval_listener(vocab, listener)\n",
        "print(f\"(After) Acurracy: {len(corrects)/len(vocab)}\")\n",
        "\n",
        "#plotting graphs\n",
        "x = []\n",
        "y = []\n",
        "for epoch, loss in graph_plots:\n",
        "  x.append(epoch)\n",
        "  y.append(loss)\n",
        "\n",
        "plt.plot(x,y)\n",
        "plt.xlabel('epochs')\n",
        "plt.ylabel('loss')\n",
        "plt.show()"
      ],
      "execution_count": 35,
      "outputs": [
        {
          "output_type": "stream",
          "text": [
            "/usr/local/lib/python3.6/dist-packages/torch/nn/modules/rnn.py:46: UserWarning: dropout option adds dropout after all but last recurrent layer, so non-zero dropout expects num_layers greater than 1, but got dropout=0.1 and num_layers=1\n",
            "  \"num_layers={}\".format(dropout, num_layers))\n"
          ],
          "name": "stderr"
        },
        {
          "output_type": "stream",
          "text": [
            "(Before) Acurracy: 0.0\n",
            "epoch 25: loss 1.7278181314468384\n",
            "epoch 50: loss 0.6286854147911072\n",
            "epoch 75: loss 0.4121505320072174\n",
            "epoch 100: loss 0.2909228801727295\n",
            "epoch 125: loss 0.2837044894695282\n",
            "epoch 150: loss 0.28174084424972534\n",
            "epoch 175: loss 0.28084608912467957\n",
            "epoch 200: loss 0.2803289592266083\n",
            "epoch 225: loss 0.279987096786499\n",
            "epoch 250: loss 0.27974018454551697\n",
            "epoch 275: loss 0.27955201268196106\n",
            "epoch 300: loss 0.2794038653373718\n",
            "epoch 325: loss 0.2792852222919464\n",
            "epoch 350: loss 0.27918919920921326\n",
            "epoch 375: loss 0.27911096811294556\n",
            "epoch 400: loss 0.27904653549194336\n",
            "epoch 425: loss 0.27899274230003357\n",
            "epoch 450: loss 0.27894654870033264\n",
            "epoch 475: loss 0.2789057493209839\n",
            "epoch 500: loss 0.2788686454296112\n",
            "epoch 500: loss 0.2788686454296112\n",
            "(After) Acurracy: 0.9\n"
          ],
          "name": "stdout"
        },
        {
          "output_type": "display_data",
          "data": {
            "image/png": "[encoded data removed]",
            "text/plain": [
              "<Figure size 432x288 with 1 Axes>"
            ]
          },
          "metadata": {
            "tags": []
          }
        }
      ]
    },
    {
      "metadata": {
        "id": "DmFrhNrHob7k",
        "colab_type": "text"
      },
      "cell_type": "markdown",
      "source": [
        "### Run (Joint training)"
      ]
    },
    {
      "metadata": {
        "id": "fgYcJj0rdU0T",
        "colab_type": "code",
        "outputId": "83ffce1d-dd96-42b1-ca34-34fd78714ca0",
        "colab": {
          "base_uri": "https://localhost:8080/",
          "height": 3877
        }
      },
      "cell_type": "code",
      "source": [
        "'''\n",
        "Train jointly\n",
        "'''\n",
        "\n",
        "ent_reg_values = [0.0,0.01]\n",
        "for ent_r in ent_reg_values:\n",
        "  print(f\"Ent regularization: {ent_r}\")\n",
        "  speaker = AttentionRNN(lstm_input_size = input_size, embed_size = embed_size, hidden_size = hidden_size,\n",
        "                       decoder_layer_dims = [hidden_size,hidden_size,PHONEME_INVENTORY_SIZE], decoder_activation_fn = torch.tanh, \n",
        "                       goal_input_size = goal_size,\n",
        "                       lstm_layers=n_layers, lstm_dropout=dropout, lstm_bidirectional = True).to(device)\n",
        "\n",
        "  listener = AttentionRNN(lstm_input_size = input_size, embed_size = embed_size, hidden_size = hidden_size,\n",
        "                       decoder_layer_dims = [hidden_size,hidden_size,VOCABULARY_SIZE], decoder_activation_fn = torch.tanh, \n",
        "                       goal_input_size = 0,\n",
        "                       lstm_layers=n_layers, lstm_dropout=dropout, lstm_bidirectional = True).to(device)\n",
        "\n",
        "  params = list(speaker.parameters()) + list(listener.parameters())\n",
        "  optimizer = torch.optim.Adam(params, lr = learning_rate, weight_decay = .0001)\n",
        "\n",
        "  #train joint\n",
        "  import time\n",
        "  n_epochs = 500\n",
        "  meanings = list(range(VOCABULARY_SIZE))\n",
        "\n",
        "  start_time = time.time()\n",
        "  graph_plots = train_joint(meanings, speaker, listener, optimizer, batch_size = 10, num_epochs = n_epochs, ent_reg_value = ent_r, ent_regularization = True)\n",
        "  end_time = time.time()\n",
        "\n",
        "  print(f\"{n_epochs} epochs in {end_time-start_time} seconds\")\n",
        "  print()\n",
        "  \n",
        "  acc = eval_exp(meanings,speaker,listener, n_trials = 100).values()\n",
        "  acc_num = round(sum(acc)/len(acc),4)\n",
        "  print(f\"\\tAFTER Accuracy (Total): {acc_num}, (Indi): {acc}\\n\")\n",
        "  \n",
        "  #plotting graphs\n",
        "  x = []\n",
        "  y = []\n",
        "  y2 = []\n",
        "  y3 = []\n",
        "  for epoch, acc, loss, ent in graph_plots:\n",
        "    x.append(epoch)\n",
        "    y.append(loss)\n",
        "    y2.append(acc)\n",
        "    y3.append(ent)\n",
        "\n",
        "  plt.plot(x,y)\n",
        "  plt.xlabel('epochs')\n",
        "  plt.ylabel('g prediction cross entropy loss')\n",
        "  plt.show()\n",
        "\n",
        "  plt.plot(x,y2)\n",
        "  plt.xlabel('epochs')\n",
        "  plt.ylabel('model accuracy')\n",
        "  plt.show()\n",
        "  \n",
        "  plt.plot(x,y3)\n",
        "  plt.xlabel('epochs')\n",
        "  plt.ylabel('model entropy')\n",
        "  plt.show()"
      ],
      "execution_count": 42,
      "outputs": [
        {
          "output_type": "stream",
          "text": [
            "Ent regularization: 0.0\n"
          ],
          "name": "stdout"
        },
        {
          "output_type": "stream",
          "text": [
            "/usr/local/lib/python3.6/dist-packages/torch/nn/modules/rnn.py:46: UserWarning: dropout option adds dropout after all but last recurrent layer, so non-zero dropout expects num_layers greater than 1, but got dropout=0.1 and num_layers=1\n",
            "  \"num_layers={}\".format(dropout, num_layers))\n"
          ],
          "name": "stderr"
        },
        {
          "output_type": "stream",
          "text": [
            "Epoch 25, acc: 0.113, avg nll loss: 2.3063, avg ent: 1.6085, avg utterance length: 3.472\n",
            "\taccuracy (Total): 0.113, (Indi): dict_values([0.13, 0.09, 0.1, 0.07, 0.12, 0.11, 0.13, 0.09, 0.15, 0.14])\n",
            "\n",
            "Epoch 50, acc: 0.092, avg nll loss: 2.3039, avg ent: 1.6039, avg utterance length: 3.796\n",
            "\taccuracy (Total): 0.092, (Indi): dict_values([0.1, 0.08, 0.14, 0.09, 0.07, 0.05, 0.09, 0.08, 0.11, 0.11])\n",
            "\n",
            "Epoch 75, acc: 0.098, avg nll loss: 2.2929, avg ent: 1.5426, avg utterance length: 4.176\n",
            "\taccuracy (Total): 0.098, (Indi): dict_values([0.06, 0.12, 0.07, 0.16, 0.11, 0.09, 0.09, 0.06, 0.13, 0.09])\n",
            "\n",
            "Epoch 100, acc: 0.125, avg nll loss: 2.2603, avg ent: 1.0569, avg utterance length: 4.676\n",
            "\taccuracy (Total): 0.125, (Indi): dict_values([0.12, 0.15, 0.15, 0.1, 0.14, 0.19, 0.12, 0.11, 0.09, 0.08])\n",
            "\n",
            "Epoch 125, acc: 0.145, avg nll loss: 2.1873, avg ent: 0.5577, avg utterance length: 6.116\n",
            "\taccuracy (Total): 0.145, (Indi): dict_values([0.18, 0.12, 0.16, 0.1, 0.11, 0.24, 0.18, 0.13, 0.06, 0.17])\n",
            "\n",
            "Epoch 150, acc: 0.12, avg nll loss: 2.1781, avg ent: 0.2962, avg utterance length: 5.588\n",
            "\taccuracy (Total): 0.12, (Indi): dict_values([0.15, 0.07, 0.12, 0.12, 0.19, 0.11, 0.15, 0.1, 0.13, 0.06])\n",
            "\n",
            "Epoch 175, acc: 0.153, avg nll loss: 2.1755, avg ent: 0.1634, avg utterance length: 5.316\n",
            "\taccuracy (Total): 0.153, (Indi): dict_values([0.11, 0.1, 0.12, 0.2, 0.16, 0.26, 0.1, 0.21, 0.19, 0.08])\n",
            "\n",
            "Epoch 200, acc: 0.138, avg nll loss: 2.1503, avg ent: 0.1084, avg utterance length: 4.892\n",
            "\taccuracy (Total): 0.138, (Indi): dict_values([0.17, 0.26, 0.13, 0.09, 0.15, 0.1, 0.09, 0.15, 0.09, 0.15])\n",
            "\n",
            "Epoch 225, acc: 0.14, avg nll loss: 2.1255, avg ent: 0.0785, avg utterance length: 5.472\n",
            "\taccuracy (Total): 0.14, (Indi): dict_values([0.22, 0.19, 0.12, 0.11, 0.12, 0.17, 0.06, 0.08, 0.14, 0.19])\n",
            "\n",
            "Epoch 250, acc: 0.138, avg nll loss: 2.1708, avg ent: 0.0512, avg utterance length: 4.876\n",
            "\taccuracy (Total): 0.138, (Indi): dict_values([0.15, 0.08, 0.16, 0.21, 0.1, 0.14, 0.23, 0.1, 0.1, 0.11])\n",
            "\n",
            "Epoch 275, acc: 0.128, avg nll loss: 2.1593, avg ent: 0.0386, avg utterance length: 5.072\n",
            "\taccuracy (Total): 0.128, (Indi): dict_values([0.11, 0.15, 0.14, 0.08, 0.12, 0.11, 0.2, 0.11, 0.07, 0.19])\n",
            "\n",
            "Epoch 300, acc: 0.127, avg nll loss: 2.1235, avg ent: 0.0292, avg utterance length: 5.988\n",
            "\taccuracy (Total): 0.127, (Indi): dict_values([0.16, 0.08, 0.15, 0.23, 0.1, 0.11, 0.1, 0.1, 0.13, 0.11])\n",
            "\n",
            "Epoch 325, acc: 0.148, avg nll loss: 2.0598, avg ent: 0.0265, avg utterance length: 6.028\n",
            "\taccuracy (Total): 0.148, (Indi): dict_values([0.22, 0.19, 0.04, 0.07, 0.06, 0.18, 0.19, 0.15, 0.11, 0.27])\n",
            "\n",
            "Epoch 350, acc: 0.147, avg nll loss: 2.1146, avg ent: 0.0251, avg utterance length: 6.116\n",
            "\taccuracy (Total): 0.147, (Indi): dict_values([0.1, 0.08, 0.1, 0.14, 0.39, 0.12, 0.07, 0.21, 0.12, 0.14])\n",
            "\n",
            "Epoch 375, acc: 0.144, avg nll loss: 2.0997, avg ent: 0.0212, avg utterance length: 5.84\n",
            "\taccuracy (Total): 0.144, (Indi): dict_values([0.11, 0.14, 0.07, 0.15, 0.11, 0.23, 0.13, 0.2, 0.15, 0.15])\n",
            "\n",
            "Epoch 400, acc: 0.129, avg nll loss: 2.1379, avg ent: 0.0182, avg utterance length: 5.648\n",
            "\taccuracy (Total): 0.129, (Indi): dict_values([0.11, 0.08, 0.17, 0.13, 0.17, 0.12, 0.12, 0.11, 0.12, 0.16])\n",
            "\n",
            "Epoch 425, acc: 0.133, avg nll loss: 2.1565, avg ent: 0.0159, avg utterance length: 5.464\n",
            "\taccuracy (Total): 0.133, (Indi): dict_values([0.11, 0.12, 0.14, 0.2, 0.18, 0.19, 0.06, 0.11, 0.11, 0.11])\n",
            "\n",
            "Epoch 450, acc: 0.14, avg nll loss: 2.1174, avg ent: 0.0151, avg utterance length: 5.596\n",
            "\taccuracy (Total): 0.14, (Indi): dict_values([0.16, 0.13, 0.19, 0.11, 0.09, 0.16, 0.12, 0.08, 0.2, 0.16])\n",
            "\n",
            "Epoch 475, acc: 0.146, avg nll loss: 2.1039, avg ent: 0.0149, avg utterance length: 5.624\n",
            "\taccuracy (Total): 0.146, (Indi): dict_values([0.23, 0.12, 0.1, 0.12, 0.12, 0.15, 0.19, 0.13, 0.17, 0.13])\n",
            "\n",
            "Epoch 500, acc: 0.14, avg nll loss: 2.131, avg ent: 0.0147, avg utterance length: 5.6\n",
            "\taccuracy (Total): 0.14, (Indi): dict_values([0.06, 0.12, 0.14, 0.19, 0.09, 0.12, 0.12, 0.27, 0.1, 0.19])\n",
            "\n",
            "500 epochs in 434.89637207984924 seconds\n",
            "\n",
            "\tAFTER Accuracy (Total): 0.157, (Indi): dict_values([0.14, 0.22, 0.08, 0.15, 0.13, 0.14, 0.15, 0.23, 0.12, 0.21])\n",
            "\n"
          ],
          "name": "stdout"
        },
        {
          "output_type": "display_data",
          "data": {
            "image/png": "[encoded data removed]",
            "text/plain": [
              "<Figure size 432x288 with 1 Axes>"
            ]
          },
          "metadata": {
            "tags": []
          }
        },
        {
          "output_type": "display_data",
          "data": {
            "image/png": "[encoded data removed]",
            "text/plain": [
              "<Figure size 432x288 with 1 Axes>"
            ]
          },
          "metadata": {
            "tags": []
          }
        },
        {
          "output_type": "display_data",
          "data": {
            "image/png": "[encoded data removed]",
            "text/plain": [
              "<Figure size 432x288 with 1 Axes>"
            ]
          },
          "metadata": {
            "tags": []
          }
        },
        {
          "output_type": "stream",
          "text": [
            "Ent regularization: 0.01\n",
            "Epoch 25, acc: 0.095, avg nll loss: 2.3013, avg ent: 1.609, avg utterance length: 4.184\n",
            "\taccuracy (Total): 0.095, (Indi): dict_values([0.11, 0.04, 0.1, 0.13, 0.07, 0.14, 0.09, 0.07, 0.11, 0.09])\n",
            "\n",
            "Epoch 50, acc: 0.106, avg nll loss: 2.3032, avg ent: 1.608, avg utterance length: 4.2\n",
            "\taccuracy (Total): 0.106, (Indi): dict_values([0.12, 0.13, 0.09, 0.11, 0.12, 0.1, 0.06, 0.09, 0.09, 0.15])\n",
            "\n",
            "Epoch 75, acc: 0.099, avg nll loss: 2.3013, avg ent: 1.5949, avg utterance length: 4.296\n",
            "\taccuracy (Total): 0.099, (Indi): dict_values([0.08, 0.12, 0.1, 0.14, 0.11, 0.07, 0.13, 0.11, 0.05, 0.08])\n",
            "\n",
            "Epoch 100, acc: 0.108, avg nll loss: 2.2836, avg ent: 1.4818, avg utterance length: 4.024\n",
            "\taccuracy (Total): 0.108, (Indi): dict_values([0.12, 0.1, 0.07, 0.12, 0.08, 0.11, 0.13, 0.06, 0.16, 0.13])\n",
            "\n",
            "Epoch 125, acc: 0.128, avg nll loss: 2.269, avg ent: 0.9359, avg utterance length: 5.152\n",
            "\taccuracy (Total): 0.128, (Indi): dict_values([0.15, 0.16, 0.08, 0.09, 0.16, 0.13, 0.07, 0.2, 0.17, 0.07])\n",
            "\n",
            "Epoch 150, acc: 0.123, avg nll loss: 2.2229, avg ent: 0.4695, avg utterance length: 5.032\n",
            "\taccuracy (Total): 0.123, (Indi): dict_values([0.12, 0.17, 0.09, 0.1, 0.17, 0.1, 0.11, 0.12, 0.16, 0.09])\n",
            "\n",
            "Epoch 175, acc: 0.106, avg nll loss: 2.1722, avg ent: 0.3228, avg utterance length: 5.808\n",
            "\taccuracy (Total): 0.106, (Indi): dict_values([0.13, 0.07, 0.03, 0.14, 0.18, 0.11, 0.15, 0.11, 0.03, 0.11])\n",
            "\n",
            "Epoch 200, acc: 0.146, avg nll loss: 2.1574, avg ent: 0.1931, avg utterance length: 5.048\n",
            "\taccuracy (Total): 0.146, (Indi): dict_values([0.18, 0.2, 0.16, 0.11, 0.09, 0.16, 0.12, 0.12, 0.2, 0.12])\n",
            "\n",
            "Epoch 225, acc: 0.139, avg nll loss: 2.1236, avg ent: 0.1401, avg utterance length: 5.804\n",
            "\taccuracy (Total): 0.139, (Indi): dict_values([0.14, 0.2, 0.17, 0.13, 0.16, 0.12, 0.08, 0.19, 0.12, 0.08])\n",
            "\n",
            "Epoch 250, acc: 0.139, avg nll loss: 2.1006, avg ent: 0.0893, avg utterance length: 5.816\n",
            "\taccuracy (Total): 0.139, (Indi): dict_values([0.16, 0.1, 0.1, 0.26, 0.16, 0.2, 0.06, 0.12, 0.12, 0.11])\n",
            "\n",
            "Epoch 275, acc: 0.149, avg nll loss: 2.1305, avg ent: 0.0695, avg utterance length: 5.536\n",
            "\taccuracy (Total): 0.149, (Indi): dict_values([0.13, 0.19, 0.12, 0.16, 0.17, 0.11, 0.1, 0.15, 0.18, 0.18])\n",
            "\n",
            "Epoch 300, acc: 0.155, avg nll loss: 2.08, avg ent: 0.0513, avg utterance length: 6.268\n",
            "\taccuracy (Total): 0.155, (Indi): dict_values([0.13, 0.14, 0.23, 0.1, 0.13, 0.15, 0.15, 0.16, 0.2, 0.16])\n",
            "\n",
            "Epoch 325, acc: 0.133, avg nll loss: 2.0872, avg ent: 0.0436, avg utterance length: 5.864\n",
            "\taccuracy (Total): 0.133, (Indi): dict_values([0.12, 0.07, 0.19, 0.11, 0.11, 0.19, 0.14, 0.12, 0.07, 0.21])\n",
            "\n",
            "Epoch 350, acc: 0.157, avg nll loss: 2.1063, avg ent: 0.043, avg utterance length: 5.18\n",
            "\taccuracy (Total): 0.157, (Indi): dict_values([0.26, 0.15, 0.16, 0.09, 0.13, 0.16, 0.13, 0.17, 0.21, 0.11])\n",
            "\n",
            "Epoch 375, acc: 0.154, avg nll loss: 2.0386, avg ent: 0.0377, avg utterance length: 6.18\n",
            "\taccuracy (Total): 0.154, (Indi): dict_values([0.14, 0.22, 0.1, 0.19, 0.12, 0.17, 0.12, 0.17, 0.15, 0.16])\n",
            "\n",
            "Epoch 400, acc: 0.137, avg nll loss: 2.1264, avg ent: 0.0381, avg utterance length: 5.508\n",
            "\taccuracy (Total): 0.137, (Indi): dict_values([0.22, 0.09, 0.14, 0.09, 0.1, 0.15, 0.1, 0.13, 0.23, 0.12])\n",
            "\n",
            "Epoch 425, acc: 0.135, avg nll loss: 2.0617, avg ent: 0.0338, avg utterance length: 5.648\n",
            "\taccuracy (Total): 0.135, (Indi): dict_values([0.16, 0.12, 0.09, 0.18, 0.09, 0.17, 0.12, 0.15, 0.11, 0.16])\n",
            "\n",
            "Epoch 450, acc: 0.129, avg nll loss: 2.0998, avg ent: 0.0328, avg utterance length: 5.972\n",
            "\taccuracy (Total): 0.129, (Indi): dict_values([0.07, 0.16, 0.19, 0.09, 0.11, 0.1, 0.17, 0.13, 0.17, 0.1])\n",
            "\n",
            "Epoch 475, acc: 0.139, avg nll loss: 2.096, avg ent: 0.0305, avg utterance length: 6.292\n",
            "\taccuracy (Total): 0.139, (Indi): dict_values([0.14, 0.08, 0.16, 0.15, 0.11, 0.11, 0.13, 0.27, 0.09, 0.15])\n",
            "\n",
            "Epoch 500, acc: 0.148, avg nll loss: 2.1168, avg ent: 0.0293, avg utterance length: 4.884\n",
            "\taccuracy (Total): 0.148, (Indi): dict_values([0.12, 0.11, 0.15, 0.15, 0.11, 0.15, 0.18, 0.1, 0.14, 0.27])\n",
            "\n",
            "500 epochs in 430.4794135093689 seconds\n",
            "\n",
            "\tAFTER Accuracy (Total): 0.129, (Indi): dict_values([0.08, 0.09, 0.17, 0.14, 0.12, 0.11, 0.09, 0.13, 0.13, 0.23])\n",
            "\n"
          ],
          "name": "stdout"
        },
        {
          "output_type": "display_data",
          "data": {
            "image/png": "[encoded data removed]",
            "text/plain": [
              "<Figure size 432x288 with 1 Axes>"
            ]
          },
          "metadata": {
            "tags": []
          }
        },
        {
          "output_type": "display_data",
          "data": {
            "image/png": "[encoded data removed]",
            "text/plain": [
              "<Figure size 432x288 with 1 Axes>"
            ]
          },
          "metadata": {
            "tags": []
          }
        },
        {
          "output_type": "display_data",
          "data": {
            "image/png": "[encoded data removed]",
            "text/plain": [
              "<Figure size 432x288 with 1 Axes>"
            ]
          },
          "metadata": {
            "tags": []
          }
        }
      ]
    },
    {
      "metadata": {
        "id": "XVTDorNYPx8f",
        "colab_type": "code",
        "colab": {
          "base_uri": "https://localhost:8080/",
          "height": 105
        },
        "outputId": "8c374140-36c9-4e6a-ac2c-061ee2e19ebe"
      },
      "cell_type": "code",
      "source": [
        "'''\n",
        "Train jointly w/ RL\n",
        "'''\n",
        "ent_reg_values = [0.0,0.01]\n",
        "for ent_r in ent_reg_values:\n",
        "  print(f\"Ent regularization: {ent_r}\")\n",
        "  speaker = AttentionRNN(lstm_input_size = input_size, embed_size = embed_size, hidden_size = hidden_size,\n",
        "                       decoder_layer_dims = [hidden_size,hidden_size,PHONEME_INVENTORY_SIZE], decoder_activation_fn = torch.tanh, \n",
        "                       goal_input_size = goal_size,\n",
        "                       lstm_layers=n_layers, lstm_dropout=dropout, lstm_bidirectional = True).to(device)\n",
        "\n",
        "  listener = AttentionRNN(lstm_input_size = input_size, embed_size = embed_size, hidden_size = hidden_size,\n",
        "                       decoder_layer_dims = [hidden_size,hidden_size,VOCABULARY_SIZE], decoder_activation_fn = torch.tanh, \n",
        "                       goal_input_size = 0,\n",
        "                       lstm_layers=n_layers, lstm_dropout=dropout, lstm_bidirectional = True).to(device)\n",
        "\n",
        "  params = list(speaker.parameters()) + list(listener.parameters())\n",
        "  optimizer = torch.optim.Adam(params, lr = learning_rate, weight_decay = .0001)\n",
        "\n",
        "  #train joint\n",
        "  import time\n",
        "  n_epochs = 500\n",
        "  meanings = list(range(VOCABULARY_SIZE))\n",
        "  \n",
        "  start_time = time.time()\n",
        "  graph_plots = train_joint_rl(meanings, speaker, listener, optimizer, batch_size = 10, num_epochs = n_epochs, ent_reg_value = ent_r)\n",
        "  end_time = time.time()\n",
        "  print(f\"{n_epochs} epochs in {end_time-start_time} seconds\")\n",
        "  print()\n",
        "  \n",
        "  acc = eval_exp(meanings,speaker,listener, n_trials = 100).values()\n",
        "  acc_num = round(sum(acc)/len(acc),4)\n",
        "  print(f\"\\tAFTER Accuracy (Total): {acc_num}, (Indi): {acc}\\n\")\n",
        "  \n",
        "  #plotting graphs\n",
        "  x = []\n",
        "  y = []\n",
        "  y2 = []\n",
        "  y3 = []\n",
        "  for epoch, acc, loss, ent in graph_plots:\n",
        "    x.append(epoch)\n",
        "    y.append(loss)\n",
        "    y2.append(acc)\n",
        "    y3.append(ent)\n",
        "\n",
        "  plt.plot(x,y)\n",
        "  plt.xlabel('epochs')\n",
        "  plt.ylabel('g prediction cross entropy loss')\n",
        "  plt.show()\n",
        "\n",
        "  plt.plot(x,y2)\n",
        "  plt.xlabel('epochs')\n",
        "  plt.ylabel('model accuracy')\n",
        "  plt.show()\n",
        "  \n",
        "  plt.plot(x,y3)\n",
        "  plt.xlabel('epochs')\n",
        "  plt.ylabel('speaker\\'s action distribution entropy')\n",
        "  plt.show()\n"
      ],
      "execution_count": 0,
      "outputs": [
        {
          "output_type": "stream",
          "text": [
            "Ent regularization: 0.0\n"
          ],
          "name": "stdout"
        },
        {
          "output_type": "stream",
          "text": [
            "/usr/local/lib/python3.6/dist-packages/torch/nn/modules/rnn.py:46: UserWarning: dropout option adds dropout after all but last recurrent layer, so non-zero dropout expects num_layers greater than 1, but got dropout=0.1 and num_layers=1\n",
            "  \"num_layers={}\".format(dropout, num_layers))\n"
          ],
          "name": "stderr"
        },
        {
          "output_type": "stream",
          "text": [
            "\taccuracy (0.10599999999999998): dict_values([0.09, 0.1, 0.15, 0.13, 0.08, 0.13, 0.09, 0.07, 0.11, 0.11])\n"
          ],
          "name": "stdout"
        }
      ]
    },
    {
      "metadata": {
        "id": "CyIaRvxhmPCh",
        "colab_type": "code",
        "colab": {}
      },
      "cell_type": "code",
      "source": [
        "# acc = eval_exp(meanings,speaker,listener).values()\n",
        "# print(f\"\\taccuracy ({sum(acc)/len(acc)}): {acc}\")"
      ],
      "execution_count": 0,
      "outputs": []
    },
    {
      "metadata": {
        "id": "wwinvEtFcRgE",
        "colab_type": "text"
      },
      "cell_type": "markdown",
      "source": [
        "\n",
        "### Experimental records"
      ]
    },
    {
      "metadata": {
        "id": "uRmUP3tsFEpi",
        "colab_type": "text"
      },
      "cell_type": "markdown",
      "source": [
        "**April 9, 12:53pm** <br>\n",
        "\n",
        "```\n",
        "PHONEME_INVENTORY_SIZE = 16 + 1\n",
        "VOCABULARY_SIZE = 48\n",
        "MAX_WORD_LENGTH = 4\n",
        "hidden_size = 256\n",
        "n_layers = 1 #EncoderLSTM\n",
        "dropout = 0.1\n",
        "learning_rate = 1e-3\n",
        "\n",
        "batch_size = 20 #training\n",
        "\n",
        "train_speaker(vocab, speaker, optimizer, batch_size, n_epochs):\n",
        "            epoch 1: loss 6.226044654846191\n",
        "            epoch 101: loss 3.105109691619873\n",
        "            epoch 201: loss 0.7488048672676086\n",
        "            epoch 301: loss 0.2487674057483673\n",
        "            epoch 401: loss 0.08418204635381699\n",
        "            epoch 501: loss 0.056233298033475876\n",
        "            epoch 601: loss 0.03831745311617851\n",
        "            epoch 701: loss 0.0295582115650177\n",
        "            epoch 801: loss 0.023506542667746544\n",
        "            epoch 901: loss 0.020914575085043907\n",
        "            epoch 1000: loss 0.016073906794190407\n",
        "            \n",
        "train_listener(vocab, listener, optimizer, batch_size, n_epochs):            \n",
        "            epoch 1: loss 3.8655076026916504\n",
        "            epoch 101: loss 0.9821683764457703\n",
        "            epoch 201: loss 0.2731153070926666\n",
        "            epoch 301: loss 0.25724339485168457\n",
        "            epoch 401: loss 0.19223418831825256\n",
        "\n",
        "---\n",
        "\n",
        "\n",
        "\n",
        "---\n",
        "\n",
        "\n",
        "            epoch 501: loss 0.22719207406044006\n",
        "            epoch 601: loss 0.2528647780418396\n",
        "            epoch 701: loss 0.18347255885601044\n",
        "            epoch 801: loss 0.37539342045783997\n",
        "            epoch 901: loss 0.3800446391105652\n",
        "            epoch 1000: loss 0.3652879595756531\n",
        "\n",
        "```\n",
        "\n",
        "**April 5, 1:43pm**<br>\n",
        "Training Speaker + Listener Agents Jointly via J = nll_loss(listener predicting target goal given utterance produced by speaker given target goal) - entropy(of the speaker's action distribution)  where ```ent = -a_distro * torch.log(a_distro)``` (I should double check that the code is correct: oops, i only returned the entropy for the last action)\n",
        "\n",
        "```\n",
        "PHONEME_INVENTORY_SIZE = 4 + 1 #(EOS)\n",
        "VOCABULARY_SIZE = 10\n",
        "BATCH_SIZE = 20\n",
        "for 1k epochs\n",
        "----------------------------------------------------------------------\n",
        "Epoch 100, avg loss: 2.303295392394066, avg ent: 0.0032047181007219478\n",
        "Epoch 200, avg loss: 2.20992678385973, avg ent: 0.001488100756961103\n",
        "Epoch 300, avg loss: 2.065933733522892, avg ent: 6.462750437731302e-05\n",
        "Epoch 400, avg loss: 2.081602655470371, avg ent: 3.386099650606411e-05\n",
        "Epoch 500, avg loss: 2.0622193831801416, avg ent: 2.7811814254164347e-05\n",
        "Epoch 600, avg loss: 2.057446404606104, avg ent: 2.621033969990094e-05\n",
        "Epoch 700, avg loss: 2.0547059277892115, avg ent: 2.4886489180971692e-05\n",
        "Epoch 800, avg loss: 2.061071104466915, avg ent: 2.467219452910285e-05\n",
        "Epoch 900, avg loss: 2.0713415880203248, avg ent: 2.4777529778020833e-05\n",
        "Epoch 1000, avg loss: 2.0587901176810264, avg ent: 2.3658165223878314e-05\n",
        "1000 epochs in 587.2966227531433 seconds\n",
        "```\n",
        "\n",
        "**April 5, 12:57pm**<br>\n",
        "Training Speaker + Listener Agents Jointly via J = nll_loss(listener predicting target goal given utterance produced by speaker given target goal)\n",
        "```\n",
        "PHONEME_INVENTORY_SIZE = 4 + 1 #(EOS)\n",
        "VOCABULARY_SIZE = 10\n",
        "BATCH_SIZE = 20\n",
        "-----------------------------------------------------\n",
        "Epoch 100, avg loss: 2.3028235718011856, avg ent: 0.0\n",
        "Epoch 200, avg loss: 2.254662950158119, avg ent: 0.0\n",
        "Epoch 300, avg loss: 2.1213961758613586, avg ent: 0.0\n",
        "Epoch 400, avg loss: 2.076187927186489, avg ent: 0.0\n",
        "Epoch 500, avg loss: 2.0771584681272506, avg ent: 0.0\n",
        "Epoch 600, avg loss: 2.0777724222540854, avg ent: 0.0\n",
        "Epoch 700, avg loss: 2.084217808008194, avg ent: 0.0\n",
        "Epoch 800, avg loss: 2.0803809082508087, avg ent: 0.0\n",
        "Epoch 900, avg loss: 2.065014652967453, avg ent: 0.0\n",
        "Epoch 1000, avg loss: 2.067490001678467, avg ent: 0.0\n",
        "Epoch 1100, avg loss: 2.0813374469280244, avg ent: 0.0\n",
        "Epoch 1200, avg loss: 2.0867398483157156, avg ent: 0.0\n",
        "Epoch 1300, avg loss: 2.089908520877361, avg ent: 0.0\n",
        "Epoch 1400, avg loss: 2.057461781322956, avg ent: 0.0\n",
        "Epoch 1500, avg loss: 2.0825169638991357, avg ent: 0.0\n",
        "Epoch 1600, avg loss: 2.0632899644374847, avg ent: 0.0\n",
        "Epoch 1700, avg loss: 2.0702262474894524, avg ent: 0.0\n",
        "Epoch 1800, avg loss: 2.0885721085071562, avg ent: 0.0\n",
        "Epoch 1900, avg loss: 2.061895338356495, avg ent: 0.0\n",
        "Epoch 2000, avg loss: 2.082010128855705, avg ent: 0.0\n",
        "Epoch 2100, avg loss: 2.077530323088169, avg ent: 0.0\n",
        "Epoch 2200, avg loss: 2.084395706772804, avg ent: 0.0\n",
        "Epoch 2300, avg loss: 2.0710587098002433, avg ent: 0.0\n",
        "Epoch 2400, avg loss: 2.056579066336155, avg ent: 0.0\n",
        "Epoch 2500, avg loss: 2.0728952572345736, avg ent: 0.0\n",
        "Epoch 2600, avg loss: 2.075164333760738, avg ent: 0.0\n",
        "Epoch 2700, avg loss: 2.0420171529054643, avg ent: 0.0\n",
        "Epoch 2800, avg loss: 2.049694618463516, avg ent: 0.0\n",
        "Epoch 2900, avg loss: 2.0751369814276694, avg ent: 0.0\n",
        "Epoch 3000, avg loss: 2.0748237807750702, avg ent: 0.0\n",
        "Epoch 3100, avg loss: 2.0660855191349983, avg ent: 0.0\n",
        "Epoch 3200, avg loss: 2.067527336061001, avg ent: 0.0\n",
        "Epoch 3300, avg loss: 2.061528675019741, avg ent: 0.0\n",
        "Epoch 3400, avg loss: 2.0607283218503, avg ent: 0.0\n",
        "Epoch 3500, avg loss: 2.0775918741822244, avg ent: 0.0\n",
        "Epoch 3600, avg loss: 2.067844699859619, avg ent: 0.0\n",
        "Epoch 3700, avg loss: 2.0744430291056632, avg ent: 0.0\n",
        "Epoch 3800, avg loss: 2.0751035472750665, avg ent: 0.0\n",
        "Epoch 3900, avg loss: 2.0758033413887023, avg ent: 0.0\n",
        "Epoch 4000, avg loss: 2.078954189836979, avg ent: 0.0\n",
        "Epoch 4100, avg loss: 2.085360106706619, avg ent: 0.0\n",
        "Epoch 4200, avg loss: 2.074167816877365, avg ent: 0.0\n",
        "Epoch 4300, avg loss: 2.0684577859044073, avg ent: 0.0\n",
        "Epoch 4400, avg loss: 2.0627877841591835, avg ent: 0.0\n",
        "Epoch 4500, avg loss: 2.0848449479937554, avg ent: 0.0\n",
        "Epoch 4600, avg loss: 2.0743068467974664, avg ent: 0.0\n",
        "Epoch 4700, avg loss: 2.0754642365574836, avg ent: 0.0\n",
        "Epoch 4800, avg loss: 2.077644497334957, avg ent: 0.0\n",
        "Epoch 4900, avg loss: 2.0728858067393303, avg ent: 0.0\n",
        "Epoch 5000, avg loss: 2.046520941257477, avg ent: 0.0\n",
        "5000 epochs in 2899.577383518219 seconds\n",
        "```"
      ]
    }
  ]
}