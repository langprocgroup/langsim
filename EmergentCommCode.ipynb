{
  "nbformat": 4,
  "nbformat_minor": 0,
  "metadata": {
    "colab": {
      "name": "LangSim3",
      "version": "0.3.2",
      "provenance": [],
      "collapsed_sections": [],
      "toc_visible": true
    },
    "kernelspec": {
      "name": "python3",
      "display_name": "Python 3"
    },
    "accelerator": "GPU"
  },
  "cells": [
    {
      "metadata": {
        "id": "siD984eijbqB",
        "colab_type": "text"
      },
      "cell_type": "markdown",
      "source": [
        "# April 19, 2019\n",
        "\n",
        "In this notebook, we implement **meaning to utterance** and **utterance to meaning** encoders using an RNN that has attention, perfect memory, and allow for batch training over utterances that are **fixed** or **variable**."
      ]
    },
    {
      "metadata": {
        "id": "1H4CV4PsbPEs",
        "colab_type": "code",
        "colab": {}
      },
      "cell_type": "code",
      "source": [
        "\n",
        "#torch imports\n",
        "import torch\n",
        "if torch.cuda.is_available(): import torch.cuda as t\n",
        "else: import torch as t\n",
        "from torch import nn\n",
        "import torch.nn.functional as F\n",
        "device = torch.device('cuda' if torch.cuda.is_available() else 'cpu')\n",
        "\n",
        "#other imports\n",
        "import numpy as np\n",
        "import matplotlib.pyplot as plt\n",
        "import math, random\n",
        "from collections import namedtuple"
      ],
      "execution_count": 0,
      "outputs": []
    },
    {
      "metadata": {
        "id": "Z8jU5qvYfbYt",
        "colab_type": "text"
      },
      "cell_type": "markdown",
      "source": [
        "##Utils"
      ]
    },
    {
      "metadata": {
        "id": "zePJC0gAfdBK",
        "colab_type": "code",
        "colab": {}
      },
      "cell_type": "code",
      "source": [
        "def one_hot(idx, length):\n",
        "    '''\n",
        "    use example: one_hot(torch.LongTensor(5,1).random_() % 10, 10)\n",
        "\n",
        "    :param idx: \n",
        "    some LongTensor of size [-1,-1,...,1]\n",
        "    :param length:\n",
        "    one_hot length\n",
        "    '''\n",
        "\n",
        "    assert(idx.size()[-1] == 1)\n",
        "    onehot = t.FloatTensor(*(list(idx.size()[:-1]) + [length]))\n",
        "    onehot.zero_()\n",
        "    onehot.scatter_(len(idx.size())-1, idx, 1)\n",
        "\n",
        "    return onehot\n",
        "\n"
      ],
      "execution_count": 0,
      "outputs": []
    },
    {
      "metadata": {
        "id": "TGvQHQEVfvKp",
        "colab_type": "text"
      },
      "cell_type": "markdown",
      "source": [
        "## Models\n",
        "\n",
        "\n",
        "---\n",
        "\n",
        "\n",
        "**Meaning Encoder**\n",
        "We call the meaning encoder the \"speaker\". At the high-level, the speaker is a function that maps meaning to an utterance (a sequence of symbols):\n",
        "$$S: M \\rightarrow U$$\n",
        "\n",
        "For this particular implementation, we use an LSTM and an attention layer to generate a latent represenation $h_t$ of $\\underline{u}_t|m$ at some timestep $t$, which is then decoded by a softmax FF network into $A$. We then sample $a \\sim A$ which is the next symbol in the generated utterance $\\underline{u}$. We give the model the capacity for \"perfect memory\" by providing the LSTM and the $h$-decoder a preserved observation of **\\[1\\]** $m$ and **\\[2\\]** every $h_t$ wherever possible. Our method to do this is:\n",
        "\n",
        "> **\\[1\\]** $m^{\\mathbb{1}}$ (the ${\\mathbb{1}}$ superscript denotes a 1-hot) is concatenated to each element $a_t^{\\mathbb{1}}$ in $\\underline{u}_t$ for the LSTM, to each $h_t$ for the attention layer, and to the weighted $h$ that is decoded into $A$. \\\\\n",
        "> **\\[2\\]** The input $h$ to the softmax FF decoder is a sum of weighted vectors $h_t$, that is $h = \\sum_t c_t h_t$ where $c_t$ is determined by an attention layer which is another softmax FF. We write each $h_t$ to an external array in the code.\n",
        "\n",
        "Psuedocode:\n",
        "```\n",
        "@ t = 0:  \n",
        "    1. an initial (h_0+meaning) (skipping RNN and attention) is passed into decoder layer giving a_distro\n",
        "    2. an (in-progress) utterance begins here with either a ~ a_distro, or a target a is given\n",
        "    \n",
        "@ t > 0:\n",
        "    1. h_0 and (utterance+meaning) is passed into RNN, producing hs (h_1:h_t)\n",
        "    2. (hs+meaning) is passed into attention layer, producing attn_energies\n",
        "    3. weighted combination of hs with attn_energies, giving weighted_rep\n",
        "    4. (weighted_rep+meaning) is passed into the decoder layer, giving a_distro\n",
        "    5. the in-progress utterance is added onto with new symbol (either sampled from a_distro, or given by a target utterance)\n",
        "(continued until T = MAX_U_LEN or a = EOS)\n",
        "\n",
        "```\n",
        "\n",
        "\n",
        "A batch-processing implementation for variable length utterances: \\\\\n",
        "Focus on this after you write the simpler implementation, because it must have the same batch-processing structures."
      ]
    },
    {
      "metadata": {
        "id": "cP1MMx1GhUFw",
        "colab_type": "text"
      },
      "cell_type": "markdown",
      "source": [
        "### Speaker"
      ]
    },
    {
      "metadata": {
        "id": "H3cHoNAFhVkT",
        "colab_type": "code",
        "colab": {}
      },
      "cell_type": "code",
      "source": [
        "class Speaker(nn.Module):\n",
        "    '''\n",
        "    Speaker: Generative RNN with an attention layer and a decoder layer.\n",
        "    '''\n",
        "    \n",
        "    def __init__(self, meaning_size, action_size, max_u_len, **hyperparameters):\n",
        "        '''\n",
        "        meaning_size, action_size, max_u_len, {\"hidden_size\":256, \"n_layers\":1, \"dropout\":0.1, \"bidirectional\":True}\n",
        "        :param meaning_size: N_MEANINGS\n",
        "        :param action_size: N_ACTIONS\n",
        "        :param hidden_size: hidden size of the latent representation for RNN\n",
        "\n",
        "        :param hyperparameters: {\"n_layers\":int, \"dropout\":float, \"bidirectional\":bool}\n",
        "        '''\n",
        "        super(Speaker, self).__init__()\n",
        "        self.m_size = meaning_size\n",
        "        self.a_size = action_size\n",
        "        self.max_u_len = max_u_len\n",
        "        \n",
        "        self.hidden_size = hyperparameters[\"hidden_size\"]\n",
        "        self.n_layers = hyperparameters[\"n_layers\"]\n",
        "        self.dropout = hyperparameters[\"dropout\"]\n",
        "        self.bidirectional = hyperparameters[\"bidirectional\"]\n",
        "        self.max_ent = hyperparameters[\"max_ent\"]\n",
        "        \n",
        "        #initial h_0\n",
        "        if(self.bidirectional):\n",
        "            self.h_0 = nn.Parameter(t.FloatTensor(2*self.n_layers, self.hidden_size).uniform_(0,1))\n",
        "        else:\n",
        "            self.h_0 = nn.Parameter(t.FloatTensor(self.n_layers, self.hidden_size).uniform_(0,1))\n",
        "        stdv = 1. / math.sqrt(self.h_0.size(1))\n",
        "        self.h_0.data.normal_(mean=0, std=stdv)\n",
        "            \n",
        "        #RNN\n",
        "        self.rnn = nn.LSTM(input_size = self.a_size + self.m_size, hidden_size = self.hidden_size, num_layers = self.n_layers, batch_first = False, dropout = self.dropout, bidirectional = self.bidirectional)\n",
        "        \n",
        "        #Attention Layer: (hs+meaning) [T,B,|H| + |M|] ==> attn_energies [T,B,1] softmax'd over time (dim = 0)\n",
        "#         self.softmaxFF_attention = nn.Sequential(nn.Linear(in_features = self.hidden_size + self.m_size, out_features = 1),\n",
        "#                                                  nn.Softmax(dim = 0))\n",
        "        self.softmaxFF_attention = nn.Sequential(nn.Linear(in_features = self.hidden_size + self.m_size, out_features = 1),\n",
        "                                                 nn.ReLU(),\n",
        "                                              nn.Linear(in_features = self.hidden_size, out_features = 1),\n",
        "                                              nn.Softmax(dim = 0))\n",
        "        #Decoder Layer:\n",
        "#         self.softmaxFF_action = nn.Sequential(nn.Linear(in_features = self.hidden_size + self.m_size, out_features = self.a_size), \n",
        "#                                                   nn.Softmax(dim = 1))\n",
        "        self.softmaxFF_action = nn.Sequential(nn.Linear(in_features = self.hidden_size + self.m_size, out_features = self.hidden_size), \n",
        "                                              nn.ReLU(),\n",
        "                                              nn.Linear(in_features = self.hidden_size, out_features = self.a_size),\n",
        "                                              nn.Softmax(dim = 1))\n",
        "        \n",
        "        #h_(0:t)\n",
        "        self.hs = None\n",
        "        #h_(t)\n",
        "        self.h_t = None\n",
        "\n",
        "    def forward(self, meanings_1h, utterance_feats, return_all = False):\n",
        "        '''\n",
        "        :meanings_1h: [B,|M|]\n",
        "        :utterance_feats: [T,B,|A|]:\n",
        "        \n",
        "        :return:\n",
        "        '''\n",
        "        batch_size = meanings_1h.size(0)\n",
        "        time_size = utterance_feats.size(0)\n",
        "        \n",
        "        #calling Speaker(m) at the beginning without any utterance: pass h_0 + meaning into decoder\n",
        "        if(len(utterance_feats) == 0):\n",
        "            h_0 = torch.mean(self.h_0, dim = 0).expand(batch_size, -1) #[N_D*N_L, |H|] => [B,|H|]\n",
        "            decoder_layer_input = torch.cat([h_0, meanings_1h], dim = 1) #[B,|H|] + [B,|M|] => [B,|H|+|M|]\n",
        "            a_distro = self.softmaxFF_action(decoder_layer_input) #[B,|H|+|M|] => [B,|A|]\n",
        "            return a_distro\n",
        "        \n",
        "        \n",
        "        #adding a meaning signal to the utterance at every symbol\n",
        "        t_stacked_meanings_1h = meanings_1h.unsqueeze(0).expand(time_size,-1,-1) #[B,|M|] => [1,B,|M|] => [T,B,|M|]\n",
        "        rnn_input = torch.cat([utterance_feats,t_stacked_meanings_1h], dim = 2) #[T,B,|A|] + [T,B,|M|] => [T,B,|A|+|M|]\n",
        "        \n",
        "        #rnn forward and process outputs\n",
        "        h_0 = self.h_0.unsqueeze(1).repeat(1, batch_size, 1) #[N_D*N_L, |H|] => [N_D*N_L,B,|H|]\n",
        "        self.hs, (self.h_t, _) = self.rnn(rnn_input, (h_0,h_0))\n",
        "        \n",
        "        #sum reps over directions(hs) and layers(h_t)\n",
        "        if(self.bidirectional):\n",
        "            self.hs = self.hs[:,:,:self.hidden_size] + self.hs[:,:,self.hidden_size:] #[T,B,2*|H|] ==> [T,B,|H|]\n",
        "        self.h_t = torch.sum(self.h_t, dim = 0) #[N_L,B,|H|] ==> [B,|H|]\n",
        "        \n",
        "        if(return_all):\n",
        "            a_distros = t.FloatTensor(time_size, batch_size, self.a_size)\n",
        "            for tstep in range(time_size):\n",
        "                #attention layer: add meaning signal to each h\n",
        "                hs_w_meaning = torch.cat([self.hs[:tstep+1], t_stacked_meanings_1h[:tstep+1]], dim = 2) #[T,B,|H| + |M|]\n",
        "                attn_energies = self.softmaxFF_attention(hs_w_meaning) #[T,B,1]\n",
        "                weighted_rep = torch.bmm(self.hs[:tstep+1].permute(1,2,0), attn_energies.permute(1,0,2)).squeeze(2) #[B,|H|]\n",
        "                decoder_layer_input = torch.cat([weighted_rep, meanings_1h], dim = 1) #[B,|H|+|M|]\n",
        "                a_distros[tstep] = self.softmaxFF_action(decoder_layer_input) #[B,|H|+|M|] => [B,|A|]\n",
        "            return a_distros #[T,B,|A|]\n",
        "        else:\n",
        "            #attention layer: add meaning signal to each h\n",
        "            hs_w_meaning = torch.cat([self.hs, t_stacked_meanings_1h], dim = 2) #[T,B,|H| + |M|]\n",
        "            attn_energies = self.softmaxFF_attention(hs_w_meaning) #[T,B,1]\n",
        "\n",
        "            #decoder layer: get weighted_rep by bmm, then add meaning signal, and finally pass into decoder layer\n",
        "            #     to get weighted_rep by torch.bmm([BxNxM] x [BxMxP] = [BxNxP]) \n",
        "            #     first permute ([T,B,|H|] ==> [B,|H|,T]) and ([T,B,1] ==> [B,T,1])\n",
        "            #     then bmm(hs, attn_energies):  [B,|H|,T]x[B,T,1] = [B,|H|,1] ==> [B,|H|]\n",
        "            weighted_rep = torch.bmm(self.hs.permute(1,2,0), attn_energies.permute(1,0,2)).squeeze(2) #[B,|H|]\n",
        "            decoder_layer_input = torch.cat([weighted_rep, meanings_1h], dim = 1) #[B,|H|+|M|]\n",
        "            a_distro = self.softmaxFF_action(decoder_layer_input) #[B,|H|+|M|] => [B,|A|]\n",
        "\n",
        "            return a_distro\n",
        "    \n",
        "    def sample_utterance(self, meanings_1h):\n",
        "        batch_size = meanings_1h.size(0)\n",
        "        utterance = t.LongTensor(self.max_u_len, batch_size)\n",
        "        \n",
        "        #regularizing ent term\n",
        "        a_distro_ent = t.FloatTensor(self.max_u_len)\n",
        "        \n",
        "        for tstep in range(self.max_u_len):\n",
        "            utterance_feats = one_hot(utterance[:tstep].unsqueeze(-1), self.a_size)    \n",
        "            a_distro = self(meanings_1h, utterance_feats)\n",
        "            sampled_a = torch.distributions.Categorical(a_distro).sample()\n",
        "            utterance[tstep,:] = sampled_a\n",
        "            \n",
        "            a_distro_ent[tstep] = -(a_distro * torch.log(a_distro)).mean()\n",
        "            \n",
        "        utterance = utterance.transpose(1,0) #[B,T]\n",
        "        \n",
        "        return utterance, a_distro_ent.mean()\n",
        "    \n",
        "    def gumbel_sample_utterance(self, meanings_1h, gumbel_sample = False):\n",
        "        batch_size = meanings_1h.size(0)\n",
        "        utterance_feats = t.FloatTensor(self.max_u_len, batch_size, self.a_size)\n",
        "        \n",
        "        #regularizing ent term\n",
        "        a_distro_ent = t.FloatTensor(self.max_u_len)\n",
        "        \n",
        "        for tstep in range(self.max_u_len):\n",
        "            a_distro = self(meanings_1h, utterance_feats[:tstep])\n",
        "            utterance_feats[tstep] = F.gumbel_softmax(a_distro, tau = GUMBEL_TAU, hard = True)\n",
        "            \n",
        "            a_distro_ent[tstep] = -(a_distro * torch.log(a_distro)).mean()\n",
        "        \n",
        "        return utterance_feats, a_distro_ent.mean()\n",
        "    \n",
        "    def ideal_listener_loss(self, meanings_1h, beta = 3):\n",
        "        batch_size = meanings_1h.size(0)\n",
        "        utterance = t.LongTensor(self.max_u_len, batch_size)\n",
        "        #regularizing ent term\n",
        "        a_distro_ent = t.FloatTensor(self.max_u_len)\n",
        "        log_p_u_given_m = t.FloatTensor(batch_size).fill_(0)\n",
        "        \n",
        "        for tstep in range(self.max_u_len):\n",
        "            utterance_feats = one_hot(utterance[:tstep].unsqueeze(-1), self.a_size)    \n",
        "            a_distro = self(meanings_1h, utterance_feats)\n",
        "            sampled_a = torch.distributions.Categorical(a_distro).sample()\n",
        "            utterance[tstep,:] = sampled_a\n",
        "            log_p_u_given_m += -torch.log(a_distro[range(batch_size),sampled_a])\n",
        "            \n",
        "            a_distro_ent[tstep] = -(a_distro * torch.log(a_distro)).mean()\n",
        "            \n",
        "        utterance_feats = one_hot(utterance.unsqueeze(-1), self.a_size) #[T,B,A]\n",
        "        \n",
        "        cond_ent = log_p_u_given_m.mean() #H[U|M]\n",
        "        \n",
        "        #calculating H[U] assuming B = |M|\n",
        "        ent = t.FloatTensor(batch_size).fill_(0.) #H[U]\n",
        "        for b in range(batch_size):\n",
        "            #stack one u B times, to run the same utterance per meaning\n",
        "            u = utterance_feats[:,b,:].view(1, self.max_u_len,self.a_size)\n",
        "            one_utterance_stacked = u.expand([batch_size, self.max_u_len,self.a_size]).transpose(1,0)\n",
        "\n",
        "            a_distros = self(meanings_1h, one_utterance_stacked, return_all = True).view(self.max_u_len * batch_size, -1) #[T*M,|A|]\n",
        "\n",
        "            utterance_tgt_idx = torch.argmax(utterance_feats, dim = 2).view(self.max_u_len * batch_size) #[T,M,|A|] ==> [T*M]\n",
        "            p_a = a_distros[range(self.max_u_len * batch_size),utterance_tgt_idx] #[T*M]\n",
        "            p_a = p_a.view(self.max_u_len, batch_size).transpose(1,0) #[M,T]\n",
        "            logp_a = torch.log(p_a).sum(dim = 1)\n",
        "            ent[b] = -torch.sum(logp_a.exp() * logp_a)\n",
        "        ent = ent.mean() #H[U]\n",
        "        \n",
        "        MI = ent - cond_ent\n",
        "        loss = -MI - self.max_ent*a_distro_ent.mean()\n",
        "        \n",
        "        return utterance, loss \n",
        "    \n",
        "    def nll_sample(self, meanings_1h):\n",
        "        '''\n",
        "        samples utterance and computes avg NLL of P(a_t|m) over t (utterance)\n",
        "        :returns: \n",
        "            [BATCH] nll := the avg negative-log-likelihood of P(a_t|m) over the utterance\n",
        "            utterance_feats := [T,B,|A|]\n",
        "        '''\n",
        "        batch_size = meanings_1h.size(0)\n",
        "        utterance = t.LongTensor(self.max_u_len, batch_size) #[T,B]\n",
        "        nll_time_batch = t.FloatTensor(self.max_u_len, batch_size).fill_(0.)# [T,B]\n",
        "        \n",
        "        #regularizing ent term\n",
        "        a_distro_ent = t.FloatTensor(self.max_u_len)\n",
        "        \n",
        "        for tstep in range(self.max_u_len):\n",
        "            utterance_feats = one_hot(utterance[:tstep].unsqueeze(-1), self.a_size) #[T,B,|A|]\n",
        "            a_distro = self(meanings_1h, utterance_feats) #[B,|A|]\n",
        "            sampled_a = torch.distributions.Categorical(a_distro).sample() #[B]\n",
        "            utterance[tstep,:] = sampled_a #building utterance from sampling\n",
        "            \n",
        "            nll_time_batch[tstep,:] = -torch.log(a_distro[range(batch_size), sampled_a]) #nll[t] = nll(P(A_t)) [B]\n",
        "            \n",
        "            a_distro_ent[tstep] = -(a_distro * torch.log(a_distro)).mean()\n",
        "            \n",
        "        nll = nll_time_batch.mean(dim = 0) #[B] averaged over time\n",
        "        utterance_feats = one_hot(utterance.unsqueeze(-1), self.a_size)\n",
        "        return nll, utterance_feats, a_distro_ent.mean()"
      ],
      "execution_count": 0,
      "outputs": []
    },
    {
      "metadata": {
        "id": "xbsZFVBpQCVD",
        "colab_type": "text"
      },
      "cell_type": "markdown",
      "source": [
        "### Listener"
      ]
    },
    {
      "metadata": {
        "id": "INnTRjYKQDjO",
        "colab_type": "code",
        "colab": {}
      },
      "cell_type": "code",
      "source": [
        "class Listener(nn.Module):\n",
        "    '''\n",
        "    Listener: \n",
        "    same as listener, except it recieves the entire utterance all at once and there are no added meaning signals.\n",
        "    utterance => [RNN] => hs => [ATTN] => c * hs => [DECODER] => g_distro\n",
        "    '''\n",
        "    \n",
        "    def __init__(self, meaning_size, action_size, max_u_len, **hyperparameters):\n",
        "        '''\n",
        "        meaning_size, action_size, max_u_len, {\"hidden_size\":256, \"n_layers\":1, \"dropout\":0.1, \"bidirectional\":True}\n",
        "        :param meaning_size: N_MEANINGS\n",
        "        :param action_size: N_ACTIONS\n",
        "        :param hidden_size: hidden size of the latent representation for RNN\n",
        "\n",
        "        :param hyperparameters: {\"n_layers\":int, \"dropout\":float, \"bidirectional\":bool}\n",
        "        '''\n",
        "        super(Listener, self).__init__()\n",
        "        self.m_size = meaning_size\n",
        "        self.a_size = action_size\n",
        "        self.max_u_len = max_u_len\n",
        "        \n",
        "        self.hidden_size = hyperparameters[\"hidden_size\"]\n",
        "        self.n_layers = hyperparameters[\"n_layers\"]\n",
        "        self.dropout = hyperparameters[\"dropout\"]\n",
        "        self.bidirectional = hyperparameters[\"bidirectional\"]\n",
        "\n",
        "        #initial h_0\n",
        "        if(self.bidirectional):\n",
        "            self.h_0 = nn.Parameter(t.FloatTensor(2*self.n_layers, self.hidden_size).uniform_(0,1))\n",
        "        else:\n",
        "            self.h_0 = nn.Parameter(t.FloatTensor(self.n_layers, self.hidden_size).uniform_(0,1))\n",
        "        stdv = 1. / math.sqrt(self.h_0.size(1))\n",
        "        self.h_0.data.normal_(mean=0, std=stdv)\n",
        "            \n",
        "        \n",
        "        self.rnn = nn.LSTM(input_size = self.a_size, hidden_size = self.hidden_size, num_layers = self.n_layers, batch_first = False, dropout = self.dropout, bidirectional = self.bidirectional)\n",
        "#         self.softmaxFF_attention = nn.Sequential(nn.Linear(in_features = self.hidden_size, out_features = 1), \n",
        "#                                                   nn.Softmax(dim = 0)) \n",
        "#         self.softmaxFF_decoder = nn.Sequential(nn.Linear(in_features = self.hidden_size, out_features = self.m_size), \n",
        "#                                                   nn.Softmax(dim = 1))\n",
        "        self.softmaxFF_attention = nn.Sequential(nn.Linear(in_features = self.hidden_size, out_features = self.hidden_size),\n",
        "                                                 nn.ReLU(),\n",
        "                                                 nn.Linear(in_features = self.hidden_size, out_features = 1),\n",
        "                                                 nn.Softmax(dim = 0))\n",
        "        self.softmaxFF_decoder = nn.Sequential(nn.Linear(in_features = self.hidden_size, out_features = self.hidden_size), \n",
        "                                               nn.ReLU(),\n",
        "                                               nn.Linear(in_features = self.hidden_size, out_features = self.m_size),\n",
        "                                               nn.Softmax(dim = 1))\n",
        "        \n",
        "        \n",
        "        self.hs = None\n",
        "        #self.last_h_rep = None\n",
        "\n",
        "    def forward(self, utterance_feats):\n",
        "        '''\n",
        "        :utterance_feats: [T,B,|A|]:\n",
        "        '''\n",
        "        batch_size = utterance_feats.size(1)\n",
        "        #rnn forward and process outputs\n",
        "        h_0 = self.h_0.unsqueeze(1).repeat(1, batch_size, 1) #[N_D*N_L, |H|] => [N_D*N_L,B,|H|]\n",
        "        self.hs, _ = self.rnn(utterance_feats, (h_0,h_0))\n",
        "        \n",
        "        #sum hs over directions\n",
        "        if(self.bidirectional):\n",
        "            self.hs = self.hs[:,:,:self.hidden_size] + self.hs[:,:,self.hidden_size:] #[T,B,2*|H|] ==> [T,B,|H|]\n",
        "        \n",
        "        #attention layer\n",
        "        attn_energies = self.softmaxFF_attention(self.hs) #[T,B,1]\n",
        "        \n",
        "        #decoder layer\n",
        "        #torch.bmm([BxNxM] x [BxMxP] = [BxNxP]) so permute [T,B,|H|] and [T,B,1] => [B,|H|,T] and [B,T,1], then bmm ==> [B,|H|,1]\n",
        "        weighted_rep = torch.bmm(self.h_reps.permute(1,2,0), attn_energies.permute(1,0,2)).squeeze(2) #[B,|H|]\n",
        "        g_distro = self.softmaxFF_decoder(weighted_rep) #[B,|M|]\n",
        "        \n",
        "        return g_distro\n",
        "    \n",
        "    def sample_meaning(self, utterance_feats):\n",
        "        '''\n",
        "        :param utterance_feats:\n",
        "        shape [T,B,|A|]\n",
        "        '''\n",
        "        g_distro = self(utterance_feats)\n",
        "        sampled_g = torch.distributions.Categorical(g_distro).sample()\n",
        "        return sampled_g\n",
        "    \n",
        "    def nll_sample(self, utterance_feats):\n",
        "        '''\n",
        "        negative log-likelihood of sampled meaning from listener (given u)\n",
        "        \n",
        "        :param utterance_feats:\n",
        "            shape [T,B,|A|]\n",
        "        :returns:\n",
        "            loss := [BATCH] -log(p(m|u)) \n",
        "            sampled_g := [BATCH] m\n",
        "        '''\n",
        "        batch_size = utterance_feats.size(1)\n",
        "        g_distro = self(utterance_feats)\n",
        "        sampled_g = torch.distributions.Categorical(g_distro).sample()\n",
        "        loss = -torch.log(g_distro[range(batch_size), sampled_g]) #[B]\n",
        "        return loss, sampled_g\n",
        "        "
      ],
      "execution_count": 0,
      "outputs": []
    },
    {
      "metadata": {
        "id": "smvMc0KDFRQq",
        "colab_type": "text"
      },
      "cell_type": "markdown",
      "source": [
        "## Training step functions"
      ]
    },
    {
      "metadata": {
        "id": "hVhBJagfFTkM",
        "colab_type": "text"
      },
      "cell_type": "markdown",
      "source": [
        "### Speaker (Meaning Encoder) Training Step\n",
        "\n",
        "The objective of the speaker is to minimize the total cross-entropy between sampled and target $\\underline{u}$ (utterances) given $m \\in M$.\n",
        "\n",
        "$$J_S = \\sum_m H(\\underline{u}_{\\sim S}|m,\\underline{u}_{tgt}|m)$$ \\\\\n",
        "$$ = - \\sum_m \\sum_t log p_S(a_{tgt}^t | m) $$"
      ]
    },
    {
      "metadata": {
        "id": "rvtF8LnnFSsX",
        "colab_type": "code",
        "colab": {}
      },
      "cell_type": "code",
      "source": [
        "def speaker_step(speaker, meanings_1h, tgt_utterance, opt, return_loss = True):\n",
        "    batch_size = meanings_1h.size(0)\n",
        "    loss = 0.\n",
        "    for tstep in range(speaker.max_u_len):\n",
        "        utterance_feats = one_hot(tgt_utterance[:tstep,:].unsqueeze(-1), speaker.a_size)\n",
        "        a_distro = speaker(meanings_1h, utterance_feats)\n",
        "        loss -= torch.log(a_distro[range(batch_size), tgt_utterance[tstep,:]]) #cross entropy loss\n",
        "    \n",
        "    loss = loss.mean()\n",
        "    loss.backward()\n",
        "    opt.step()\n",
        "    opt.zero_grad()\n",
        "    \n",
        "    if(return_loss): return loss.item()\n",
        "    "
      ],
      "execution_count": 0,
      "outputs": []
    },
    {
      "metadata": {
        "id": "FyDiX-_GV3F4",
        "colab_type": "text"
      },
      "cell_type": "markdown",
      "source": [
        "### Listener (utterance decoder) training step\n",
        "\n",
        "The objective of the listener is to minimize the cross-entropy between sampled and target $m$ (meanings) given a particular utterance signal $\\underline {u}$.\n",
        "\n",
        "$$J_L = \\sum_{\\underline{u}} H(m_{\\sim L}|\\underline{u},m_{tgt}|\\underline{u})$$\n",
        "$$J_L = -\\sum_{\\underline{u}} log p_L(m_{tgt}|\\underline{u}) $$"
      ]
    },
    {
      "metadata": {
        "id": "Nl7-orMgV2dq",
        "colab_type": "code",
        "colab": {}
      },
      "cell_type": "code",
      "source": [
        "def listener_step(listener, utterance_feats, tgt_meanings, opt, return_loss = True):\n",
        "    '''\n",
        "    :param tgt_meanings:\n",
        "    shape [B]\n",
        "    '''\n",
        "    batch_size = tgt_meanings.size(0)\n",
        "    g_distro = listener(utterance_feats)\n",
        "    loss = -torch.log(g_distro[range(batch_size), tgt_meanings]) #cross entropy loss\n",
        "    loss = loss.mean()\n",
        "    loss.backward()\n",
        "    opt.step()\n",
        "    opt.zero_grad()\n",
        "    \n",
        "    if(return_loss): return loss.item()\n",
        "    "
      ],
      "execution_count": 0,
      "outputs": []
    },
    {
      "metadata": {
        "id": "HLLfgfN-lbFh",
        "colab_type": "text"
      },
      "cell_type": "markdown",
      "source": [
        "### Joint end-to-end training step\n",
        "\n",
        "The joint objective of the speaker and listener is to successfully autoencode meaning signals through a communication channel. We want the speaker to produce an unambiguous utterance $\\underline{u}$ given some meaning signal $m$, and the listener to reproduce the meaning signal $m$ given the speaker's $\\underline{u}$. At initialization, the speaker does not know what to say, nor does the listener know what to listen for. Our objective can be formulated by the expected cross-entropy ($H_x$) between listener-predicted $M$ and speaker-intended $M$ given the speaker's $\\underline{u}|m$. This expectation is over the speaker's utterances.\n",
        "$$J =\\sum_m \\sum_{\\underline{u}} p_S(\\underline{u}|m) H_x(M_{\\sim L|\\underline{u}}, M_{intended|\\underline{u}})$$\n",
        "$$J = \\sum_{m} \\sum_{\\underline{u}} p_S(\\underline{u} | m) log \\frac{1}{p_L(m|\\underline{u})}$$\n",
        "\n",
        "Because finding the expectation over all possible utterances $\\underline{u} \\in U$ is intractable, we approximate using Monte Carlo sampling:\n",
        "$$J \\approx \\sum_{m} \\sum_{\\underline{u} \\sim S|m} log \\frac{1}{p_L(m|\\underline{u})}$$\n",
        "\n",
        "To make $J$ differentiable end-to-end, we use gumbel softmax to sample $\\underline{u} \\sim S|m$. We want the listener to maximize $p(m_{tgt}|\\underline{u})$ and the speaker to adjust its policy towards producing unambiguous utterances $\\underline{u}$ over $M$."
      ]
    },
    {
      "metadata": {
        "id": "mK9LGMs1leRL",
        "colab_type": "code",
        "colab": {}
      },
      "cell_type": "code",
      "source": [
        "def e2e_step(speaker, listener, batch_meanings_1h,  opt):\n",
        "    '''\n",
        "    computes average nll of p(target_m) produced by listener given speakers gumbel sampled utterance|target_m\n",
        "    :param batch_meanings_1h: [B,|M|]\n",
        "    '''\n",
        "    tgt_meanings = torch.argmax(batch_meanings_1h, dim = 1) #[B]\n",
        "\n",
        "    utterance_feats, ent = speaker.gumbel_sample_utterance(batch_meanings_1h)\n",
        "    g_distro = listener(utterance_feats)\n",
        "    \n",
        "    loss = -torch.log(g_distro[range(len(batch_meanings_1h)),tgt_meanings]) - 0.01 * ent #nll of g_distro[tgt_m]\n",
        "    loss = loss.mean()\n",
        "    loss.backward()\n",
        "    opt.step()\n",
        "    opt.zero_grad()\n",
        "\n",
        "    return loss.item()"
      ],
      "execution_count": 0,
      "outputs": []
    },
    {
      "metadata": {
        "id": "j1NAhFNzoLMT",
        "colab_type": "text"
      },
      "cell_type": "markdown",
      "source": [
        "### Speaker w/ Ideal Listener Training Step\n",
        "\n",
        "We speculate that the above training objective does not work because at initialization, because the listener will try to maximize $p_L(m|\\underline{u})$, but the speaker does not have a clear objective of increasing or decreasing $p_S(\\underline{u}|m)$ (*TO REPRODUCE:* we looked at weight updates between training steps and the $p_S(\\underline{u}|m)$ could go up or down). Because we are using approximating the loss by Monte Carlo sampling, it is unlikely that the listener will recieve the same $\\underline{u}$ given the same $m$. There is too much entropy at initialization for both systems to simultaneously  converge to a joint optimum. (Why is the RL method able to climb out of this?)\n",
        "\n",
        "We simplify the objective by assuming the ideal listener, that is minimize $H[M|U]$ from the speaker's perspective. We want the speaker to produce unambiguous utterances $\\underline{u}$ over M such that an ideal listener can successfully reconstruct $m$. This requires the probability of $p(\\frac{1}{m|\\underline{u}})$ to converge to the Dirac delta function $\\delta$ where the probabilty of some point is $1$ and $0$ everywhere else, or $H[M|U] = 0$.\n",
        "\n",
        "We take the objective function above\n",
        "$$J \\approx \\sum_{m} \\sum_{\\underline{u} \\sim S|m} log \\frac{1}{p_L(m|\\underline{u})}$$\n",
        "and by Bayes'  theorem,\n",
        "$$J \\approx \\sum_{m} \\sum_{\\underline{u} \\sim S|m} log \\frac{p_(\\underline{u})}{p_S(\\underline{u}|m)p(m)}$$\n",
        "\n",
        "where $p(\\underline{u})$ is the marginal probability over $M$, that is $p(\\underline{u}) = \\sum_{m' \\in M} p(m') p(\\underline{u} | m')$. We see that the objective here is to maximize $p(\\underline{u}|m)$ and minimize $p(\\underline{u})$ for every other m. The expected result of this that the speaker should be more likely to say the sampled $\\underline{u}$ for the meaning it was given, and less likely to say the same utterance for any other meaning.\n",
        "\n",
        "We can see this objective as minimizing $H[U|M]$ and maximizing $H[U]$, that is \n",
        "$$J \\approx \\sum_{m} \\sum_{\\underline{u} \\sim S|m}log \\frac{1}{p_S(\\underline{u}|m)} -  p(\\underline{u}) log \\frac{1}{p(\\underline{u})}$$\n",
        "$$J = H[U|M] - H[U] = -I[U:M]$$"
      ]
    },
    {
      "metadata": {
        "id": "Y_g7r397oSqK",
        "colab_type": "code",
        "colab": {}
      },
      "cell_type": "code",
      "source": [
        "def speaker_w_ideal_listener_step(speaker, batch_meanings_1h, opt):\n",
        "    utterance_feats, loss = speaker.ideal_listener_loss(batch_meanings_1h)\n",
        "    \n",
        "    loss.backward()\n",
        "    opt.step()\n",
        "    opt.zero_grad()\n",
        "\n",
        "    return loss.item()"
      ],
      "execution_count": 0,
      "outputs": []
    },
    {
      "metadata": {
        "id": "F-aX1Xhbc2ks",
        "colab_type": "text"
      },
      "cell_type": "markdown",
      "source": [
        "### Joint RL training step\n",
        "\n",
        "We formulate the same desired objective above, for the speaker and listener to successfully autoencode meaning signals through a communication channel, via a reinforcement learning objective. Agents $S$ and $L$ interact (by sampling from their policies $\\pi$) through the autoencoding task described above. A reward $r$ is given for each interaction defined by $r = \\{1 $ if $ \\hat{m}_L = m_S $ else $0\\}$. The speaker and listener learn to minimize \n",
        "$$J_S = \\sum_m -logp(\\underline{u}_{\\sim \\pi_S(m)})\\cdot reward$$\n",
        "$$J_L = \\sum_m -logp(\\hat{m}_{\\sim \\pi_L(\\underline{u})})\\cdot reward$$\n",
        "respectively, where $\\pi$ is the policy function that determines the actions of its agent. For the speaker, $\\pi : M \\rightarrow \\underline{U}$. For the listener, $\\pi: \\underline{U} \\rightarrow \\hat{M}$.\n",
        "\n",
        "The gradient updates are non-zero only when the rewards are non-zero (when speaker and listener co-operatively autoencode $m$)."
      ]
    },
    {
      "metadata": {
        "id": "PJdEoBuDdA2N",
        "colab_type": "code",
        "colab": {}
      },
      "cell_type": "code",
      "source": [
        "def rl_step(speaker, listener, batch_meanings_1h, opt):\n",
        "    #simulate batch_meanings\n",
        "    s_nll_loss, utterance_feats, ent = speaker.nll_sample(batch_meanings_1h)\n",
        "    l_nll_loss, pred_meanings = listener.nll_sample(utterance_feats)\n",
        "\n",
        "    #compute rewards\n",
        "    tgt_meanings = torch.argmax(batch_meanings_1h, dim = 1)\n",
        "    rewards = torch.eq(pred_meanings, tgt_meanings).float()\n",
        "\n",
        "    #make loss\n",
        "    loss = (s_nll_loss + l_nll_loss) * rewards - speaker.max_ent*ent\n",
        "    loss = loss.mean()\n",
        "    \n",
        "    loss.backward()\n",
        "    opt.step()\n",
        "    opt.zero_grad()\n",
        "\n",
        "    return loss.item()"
      ],
      "execution_count": 0,
      "outputs": []
    },
    {
      "metadata": {
        "id": "VUoodjzsEXnY",
        "colab_type": "text"
      },
      "cell_type": "markdown",
      "source": [
        "## Evaluation Functions"
      ]
    },
    {
      "metadata": {
        "id": "JTCM5IDrEZ74",
        "colab_type": "code",
        "colab": {}
      },
      "cell_type": "code",
      "source": [
        "def eval_speaker_acc(vocab, speaker, n_trials = 100, gumbel_sample = True):\n",
        "    with torch.no_grad():\n",
        "        avg_acc = t.FloatTensor([0. for i in range(len(vocab))])\n",
        "\n",
        "\n",
        "        meanings = list(vocab.keys())\n",
        "        meanings_1h = one_hot(t.LongTensor(meanings).unsqueeze(-1), N_MEANINGS)\n",
        "        tgt_utterances = t.LongTensor([vocab[m] for m in meanings]) #[B,T]\n",
        "        \n",
        "        for i in range(n_trials):\n",
        "\n",
        "            pred_utterances,_ = speaker.sample_utterance(meanings_1h) #[B,T]\n",
        "\n",
        "            #hard acc : eq.all(dim = 1)\n",
        "            #soft acc : mean(eq, dim = 1) #may not be a good metric because given tgt = [a,b,c,d], [a,b,c,c] is more acc than [a,b,d,d]\n",
        "            avg_acc += torch.eq(pred_utterances, tgt_utterances).all(dim = 1).float()\n",
        "\n",
        "        return  avg_acc/n_trials\n",
        "\n",
        "def eval_listener_acc(vocab, listener, n_trials = 100):\n",
        "    with torch.no_grad():\n",
        "        avg_acc = t.FloatTensor([0. for i in range(len(vocab))])\n",
        "\n",
        "        tgt_meanings = t.LongTensor(list(vocab.keys()))#.unsqueeze(-1) #[B,1]\n",
        "        #[B,T] ==> [B,T,1] ==> [T,B,1] ==> [T,B,|A|]\n",
        "        utterances = one_hot(t.LongTensor([vocab[m] for m in list(vocab.keys())]).unsqueeze(-1).transpose(1,0), N_ACTIONS)\n",
        "        for i in range(n_trials):\n",
        "\n",
        "            pred_meanings = listener.sample_meaning(utterances)#.unsqueeze(-1) #[B,1]\n",
        "            avg_acc += torch.eq(pred_meanings, tgt_meanings).float()\n",
        "\n",
        "        return  avg_acc/n_trials\n",
        "    \n",
        "    \n",
        "def eval_joint_acc(meanings_1h, speaker, listener, n_trials = 100, gumbel_sample = False):\n",
        "    '''\n",
        "    acc = percent ( m' == m )\n",
        "    '''\n",
        "    with torch.no_grad():\n",
        "        avg_acc = t.FloatTensor([0. for i in range(meanings_1h.size(0))])\n",
        "\n",
        "        for i in range(n_trials):\n",
        "\n",
        "            pred_utterance,_ = speaker.sample_utterance(meanings_1h)\n",
        "            utterance_feats = one_hot(pred_utterance.unsqueeze(-1).transpose(1,0), speaker.a_size)\n",
        "            pred_meanings = listener.sample_meaning(utterance_feats)\n",
        "            tgt_meanings = torch.argmax(meanings_1h, dim = 1)\n",
        "            avg_acc += torch.eq(pred_meanings,tgt_meanings).float()\n",
        "\n",
        "    return avg_acc/n_trials\n",
        "\n",
        "def eval_speaker_ideal_listener(meanings_1h, speaker, n_trials = 100):\n",
        "    '''\n",
        "    acc = average((num unique utterances)/(num utterances))\n",
        "    '''\n",
        "    with torch.no_grad():\n",
        "        avg_uniqueness = 0.\n",
        "        for _ in range(n_trials):\n",
        "            utterance,_ = speaker.sample_utterance(meanings_1h)\n",
        "            sampled_utterance = torch.argmax(one_hot(utterance.unsqueeze(-1), speaker.a_size), dim = 2) #[B,T]\n",
        "            unique_utterances = set()\n",
        "            for i in range(len(meanings_1h)):\n",
        "                unique_utterances.add(tuple(sampled_utterance[i].tolist()))\n",
        "            avg_uniqueness += len(unique_utterances)/len(meanings_1h)\n",
        "        #print(f\"unique utterances per meaning: {uniqueness}\")\n",
        "        return avg_uniqueness/n_trials"
      ],
      "execution_count": 0,
      "outputs": []
    },
    {
      "metadata": {
        "id": "Ok6y13XGXc6M",
        "colab_type": "code",
        "colab": {}
      },
      "cell_type": "code",
      "source": [
        "def sample_speaker(meanings_1h,speaker):\n",
        "    sampled_utterance,_ = speaker.sample_utterance(meanings_1h)\n",
        "    for i in range(len(meanings_1h)):\n",
        "        print(f\"Meaning: {torch.argmax(meanings_1h[i])}, Speaker: {sampled_utterance[i]}\")\n"
      ],
      "execution_count": 0,
      "outputs": []
    },
    {
      "metadata": {
        "id": "tT10rW6I-waQ",
        "colab_type": "text"
      },
      "cell_type": "markdown",
      "source": [
        "## Parameters"
      ]
    },
    {
      "metadata": {
        "id": "oNIkbI3W-xaO",
        "colab_type": "code",
        "colab": {}
      },
      "cell_type": "code",
      "source": [
        "N_MEANINGS = 16\n",
        "N_ACTIONS = 16\n",
        "U_LEN = 1\n",
        "\n",
        "GUMBEL_TAU = 1.\n",
        "HYPERPARAMETERS = {\"hidden_size\": 256, \"n_layers\":1, \"dropout\":0.0, \"max_ent\":0.0, \"bidirectional\":True}"
      ],
      "execution_count": 0,
      "outputs": []
    },
    {
      "metadata": {
        "id": "TJD3qls28IQz",
        "colab_type": "text"
      },
      "cell_type": "markdown",
      "source": [
        "## Vocabulary"
      ]
    },
    {
      "metadata": {
        "id": "__aYjh7U-U37",
        "colab_type": "code",
        "outputId": "e8b5af45-0d77-42b8-a41c-52d0e474d484",
        "colab": {
          "base_uri": "https://localhost:8080/",
          "height": 54
        }
      },
      "cell_type": "code",
      "source": [
        "def generate_vocab():\n",
        "    '''\n",
        "    generate one to one mapping M->U\n",
        "    '''\n",
        "    vocab = dict()\n",
        "    unique_utterances = set()\n",
        "\n",
        "    while(len(vocab) < N_MEANINGS):\n",
        "        utterance = tuple([random.randint(0,N_ACTIONS-1) for i in range(U_LEN)])\n",
        "        if(utterance not in unique_utterances):\n",
        "            unique_utterances.add(utterance)\n",
        "            vocab[len(vocab)] = list(utterance)\n",
        "\n",
        "    return vocab #{i:t.LongTensor(vocab[i]) for i in vocab}\n",
        "      \n",
        "print(list(generate_vocab().items()))"
      ],
      "execution_count": 15,
      "outputs": [
        {
          "output_type": "stream",
          "text": [
            "[(0, [8]), (1, [10]), (2, [5]), (3, [9]), (4, [11]), (5, [13]), (6, [15]), (7, [4]), (8, [2]), (9, [7]), (10, [12]), (11, [6]), (12, [14]), (13, [3]), (14, [1]), (15, [0])]\n"
          ],
          "name": "stdout"
        }
      ]
    },
    {
      "metadata": {
        "id": "XmdjfhAZGcfj",
        "colab_type": "text"
      },
      "cell_type": "markdown",
      "source": [
        "## Train"
      ]
    },
    {
      "metadata": {
        "id": "Q5-jlWj6I_tL",
        "colab_type": "code",
        "colab": {}
      },
      "cell_type": "code",
      "source": [
        "graph = namedtuple(\"graph\", \"epoch loss acc\")"
      ],
      "execution_count": 0,
      "outputs": []
    },
    {
      "metadata": {
        "id": "-QLV65boGeIC",
        "colab_type": "text"
      },
      "cell_type": "markdown",
      "source": [
        "### Speaker Train"
      ]
    },
    {
      "metadata": {
        "id": "eBVZ6S1oOP_r",
        "colab_type": "code",
        "colab": {}
      },
      "cell_type": "code",
      "source": [
        "def speaker_train_on_vocab(agent, vocab, opt, n_epochs, n_batch, verbose = False):\n",
        "    g = graph(epoch = [], loss = [], acc = [])\n",
        "\n",
        "    original_meanings = list(vocab.keys())\n",
        "    shuffled_meanings = list(original_meanings)\n",
        "\n",
        "    for epoch in range(n_epochs):\n",
        "        random.shuffle(shuffled_meanings)\n",
        "\n",
        "        batch_meanings = shuffled_meanings[:n_batch]\n",
        "        batch_utterances = t.LongTensor([vocab[m] for m in batch_meanings]).transpose(1,0)\n",
        "\n",
        "        loss = speaker_step(agent, \n",
        "                            one_hot(t.LongTensor(batch_meanings).unsqueeze(-1), N_MEANINGS), \n",
        "                            batch_utterances,\n",
        "                            opt, \n",
        "                            return_loss = True)\n",
        "        if(epoch % 100 == 0):\n",
        "            acc = eval_speaker_acc(vocab, agent, n_trials = 100, gumbel_sample = False).mean()\n",
        "            \n",
        "            if(verbose): \n",
        "                g.epoch.append(epoch)\n",
        "                g.loss.append(loss)\n",
        "                g.acc.append(acc)\n",
        "                print(f\"epoch: {epoch}, loss: {loss}, acc: {acc}\")\n",
        "    \n",
        "    print(f\"After {epoch+1} epochs, acc: {acc}\")\n",
        "    if(verbose):\n",
        "        plt.plot(g.epoch,g.loss)\n",
        "        plt.xlabel('epochs')\n",
        "        plt.ylabel('loss')\n",
        "        plt.show()\n",
        "\n",
        "        plt.plot(g.epoch,g.acc)\n",
        "        plt.xlabel('epochs')\n",
        "        plt.ylabel('acc')\n",
        "        plt.show()\n",
        "\n",
        "if False:\n",
        "    #initialize agent and vocab\n",
        "    vocab = generate_vocab()\n",
        "    for i in range(1):\n",
        "        agent = Speaker(meaning_size = N_MEANINGS, action_size = N_ACTIONS, max_u_len = U_LEN, **HYPERPARAMETERS).to(device)\n",
        "        params = list(agent.parameters())\n",
        "        opt = torch.optim.Adam(params, lr = 1e-2, weight_decay = 1e-4)\n",
        "        speaker_train_on_vocab(agent, vocab, opt, n_epochs = 100, n_batch = N_MEANINGS, verbose = False)"
      ],
      "execution_count": 0,
      "outputs": []
    },
    {
      "metadata": {
        "id": "5vGnNyBLWwfl",
        "colab_type": "text"
      },
      "cell_type": "markdown",
      "source": [
        "### Listener Train"
      ]
    },
    {
      "metadata": {
        "id": "k4eEBx3AWXXU",
        "colab_type": "code",
        "colab": {}
      },
      "cell_type": "code",
      "source": [
        "def listener_train_on_vocab(agent, vocab, opt, n_epochs, n_batch, verbose = False):\n",
        "    g = graph(epoch = [], loss = [], acc = [])\n",
        "\n",
        "    original_meanings = list(vocab.keys())\n",
        "    shuffled_meanings = list(original_meanings)\n",
        "\n",
        "    for epoch in range(n_epochs):\n",
        "        random.shuffle(shuffled_meanings)\n",
        "\n",
        "        batch_meanings = shuffled_meanings[:n_batch]\n",
        "        batch_utterances = t.LongTensor([vocab[m] for m in batch_meanings]).transpose(1,0)\n",
        "\n",
        "        loss = listener_step(agent, \n",
        "                             one_hot(batch_utterances.unsqueeze(-1), N_ACTIONS), \n",
        "                             t.LongTensor(batch_meanings), \n",
        "                             opt, return_loss = True)\n",
        "        if(epoch % 10 == 0):\n",
        "            acc = eval_listener_acc(vocab, agent, n_trials = 100).mean()\n",
        "            \n",
        "            if(verbose): \n",
        "                g.epoch.append(epoch)\n",
        "                g.loss.append(loss)\n",
        "                g.acc.append(acc)\n",
        "                print(f\"epoch: {epoch}, loss: {loss}, acc: {acc}\")\n",
        "    \n",
        "    print(f\"After {epoch+1} epochs, acc: {acc}\")\n",
        "    if(verbose):\n",
        "        plt.plot(g.epoch,g.loss)\n",
        "        plt.xlabel('epochs')\n",
        "        plt.ylabel('loss')\n",
        "        plt.show()\n",
        "\n",
        "        plt.plot(g.epoch,g.acc)\n",
        "        plt.xlabel('epochs')\n",
        "        plt.ylabel('acc')\n",
        "        plt.show()\n",
        "\n",
        "if False:\n",
        "    #initialize agent and vocab\n",
        "    vocab = generate_vocab()\n",
        "    for i in range(1):\n",
        "        #initialize agent and vocab\n",
        "        agent = Listener(meaning_size = N_MEANINGS, action_size = N_ACTIONS, max_u_len = U_LEN, **HYPERPARAMETERS).to(device)\n",
        "        params = list(agent.parameters())\n",
        "        opt = torch.optim.Adam(params, lr = 1e-2, weight_decay = 1e-4)\n",
        "        vocab = generate_vocab()\n",
        "        listener_train_on_vocab(agent, vocab, opt, n_epochs = 100, n_batch = N_MEANINGS, verbose = False) "
      ],
      "execution_count": 0,
      "outputs": []
    },
    {
      "metadata": {
        "id": "n-LJ4AVonfp1",
        "colab_type": "text"
      },
      "cell_type": "markdown",
      "source": [
        "### E2E Joint Train"
      ]
    },
    {
      "metadata": {
        "id": "nd5ImacgQz5M",
        "colab_type": "code",
        "colab": {}
      },
      "cell_type": "code",
      "source": [
        "def e2e_joint_train(speaker, listener, vocab, opt, n_epochs, n_batch, verbose = False):\n",
        "    #training parameters\n",
        "\n",
        "    g = graph(epoch = [], loss = [], acc = [])\n",
        "\n",
        "    original_meanings = list(vocab.keys())\n",
        "    shuffled_meanings = list(original_meanings)\n",
        "\n",
        "    for epoch in range(n_epochs):\n",
        "        random.shuffle(shuffled_meanings)\n",
        "\n",
        "        batch_meanings = shuffled_meanings[:n_batch]\n",
        "        batch_meanings_1h = one_hot(t.LongTensor(batch_meanings).unsqueeze(-1), N_MEANINGS)\n",
        "        loss = e2e_step(speaker, listener,  \n",
        "                       batch_meanings_1h,\n",
        "                       opt)\n",
        "\n",
        "        if(epoch % 1000 == 0):\n",
        "            acc = eval_joint_acc(batch_meanings_1h, speaker, listener, n_trials = 100).mean()\n",
        "            if(verbose):\n",
        "                g.epoch.append(epoch)\n",
        "                g.loss.append(loss)\n",
        "                g.acc.append(acc)\n",
        "                print(f\"epoch: {epoch}, loss: {loss}, acc: {acc}\")\n",
        "\n",
        "\n",
        "    print(f\"After {epoch+1} epochs, acc: {acc}\")\n",
        "    if(verbose):\n",
        "        plt.plot(g.epoch,g.loss)\n",
        "        plt.xlabel('epochs')\n",
        "        plt.ylabel('loss')\n",
        "        plt.show()\n",
        "\n",
        "        plt.plot(g.epoch,g.acc)\n",
        "        plt.xlabel('epochs')\n",
        "        plt.ylabel('acc')\n",
        "        plt.show()\n",
        "\n",
        "if False:\n",
        "    #initialize agent and vocab\n",
        "    speaker_agent = Speaker(meaning_size = N_MEANINGS, action_size = N_ACTIONS, max_u_len = U_LEN, **HYPERPARAMETERS).to(device)\n",
        "    listener_agent = Listener(meaning_size = N_MEANINGS, action_size = N_ACTIONS, max_u_len = U_LEN, **HYPERPARAMETERS).to(device)\n",
        "    params = list(speaker_agent.parameters()) + list(listener_agent.parameters())\n",
        "    opt = torch.optim.Adam(params, lr = 7e-3, weight_decay = 0)\n",
        "    vocab = generate_vocab()\n",
        "\n",
        "\n",
        "    e2e_joint_train(speaker_agent, listener_agent, vocab, opt, n_epochs = 10000, n_batch = N_MEANINGS, verbose = True)\n"
      ],
      "execution_count": 0,
      "outputs": []
    },
    {
      "metadata": {
        "id": "WPZlhPe3A7Ve",
        "colab_type": "text"
      },
      "cell_type": "markdown",
      "source": [
        "### Speaker w/ Ideal Listener Train"
      ]
    },
    {
      "metadata": {
        "id": "QUEsfRDqA-bI",
        "colab_type": "code",
        "colab": {
          "base_uri": "https://localhost:8080/",
          "height": 736
        },
        "outputId": "e79d31bb-fbcb-481e-bde4-3412c992ec60"
      },
      "cell_type": "code",
      "source": [
        "def speaker_w_ideal_listener_train(speaker, vocab, opt, n_epochs, n_batch, verbose = False):\n",
        "    #training parameters\n",
        "\n",
        "    g = graph(epoch = [], loss = [], acc = [])\n",
        "\n",
        "    original_meanings = list(vocab.keys())\n",
        "    original_meanings_1h = one_hot(t.LongTensor(original_meanings).unsqueeze(-1), N_MEANINGS)\n",
        "    shuffled_meanings = list(original_meanings)\n",
        "\n",
        "    for epoch in range(n_epochs):\n",
        "        random.shuffle(shuffled_meanings)\n",
        "\n",
        "        batch_meanings = shuffled_meanings[:n_batch]\n",
        "        batch_meanings_1h = one_hot(t.LongTensor(batch_meanings).unsqueeze(-1), N_MEANINGS)\n",
        "        loss = speaker_w_ideal_listener_step(speaker,\n",
        "                                             batch_meanings_1h,\n",
        "                                             opt)\n",
        "\n",
        "        if(epoch % 100 == 0):\n",
        "            acc = eval_speaker_ideal_listener(original_meanings_1h, speaker, n_trials = 100)\n",
        "            if(verbose):\n",
        "                g.epoch.append(epoch)\n",
        "                g.loss.append(loss)\n",
        "                g.acc.append(acc)\n",
        "                print(f\"epoch: {epoch}, loss: {loss}, acc: {acc}\")\n",
        "\n",
        "\n",
        "    print(f\"After {epoch+1} epochs, acc: {acc}\")\n",
        "    if(verbose):\n",
        "        plt.plot(g.epoch,g.loss)\n",
        "        plt.xlabel('epochs')\n",
        "        plt.ylabel('loss')\n",
        "        plt.show()\n",
        "\n",
        "        plt.plot(g.epoch,g.acc)\n",
        "        plt.xlabel('epochs')\n",
        "        plt.ylabel('acc')\n",
        "        plt.show()\n",
        "\n",
        "if False:\n",
        "    #initialize agent and vocab\n",
        "    speaker_agent = Speaker(meaning_size = N_MEANINGS, action_size = N_ACTIONS, max_u_len = U_LEN, **HYPERPARAMETERS).to(device)\n",
        "    params = list(speaker_agent.parameters())\n",
        "    opt = torch.optim.Adam(params, lr = 7e-3, weight_decay = 0)\n",
        "    vocab = generate_vocab()\n",
        "\n",
        "\n",
        "    speaker_w_ideal_listener_train(speaker_agent, vocab, opt, n_epochs = 1000, n_batch = N_MEANINGS, verbose = True)\n"
      ],
      "execution_count": 20,
      "outputs": [
        {
          "output_type": "stream",
          "text": [
            "epoch: 0, loss: -0.03869032859802246, acc: 0.63375\n",
            "epoch: 100, loss: 0.1383206844329834, acc: 0.628125\n",
            "epoch: 200, loss: 0.18809175491333008, acc: 0.6275\n",
            "epoch: 300, loss: -0.22517728805541992, acc: 0.6075\n",
            "epoch: 400, loss: -0.3343989849090576, acc: 0.630625\n",
            "epoch: 500, loss: -2.2219903469085693, acc: 0.439375\n",
            "epoch: 600, loss: -4.053173542022705, acc: 0.305\n",
            "epoch: 700, loss: -5.546440124511719, acc: 0.150625\n",
            "epoch: 800, loss: -5.433457374572754, acc: 0.113125\n",
            "epoch: 900, loss: -3.1862096786499023, acc: 0.334375\n",
            "After 1000 epochs, acc: 0.334375\n"
          ],
          "name": "stdout"
        },
        {
          "output_type": "display_data",
          "data": {
            "image/png": "[encoded data removed]",
            "text/plain": [
              "<Figure size 432x288 with 1 Axes>"
            ]
          },
          "metadata": {
            "tags": []
          }
        },
        {
          "output_type": "display_data",
          "data": {
            "image/png": "[encoded data removed]",
            "text/plain": [
              "<Figure size 432x288 with 1 Axes>"
            ]
          },
          "metadata": {
            "tags": []
          }
        }
      ]
    },
    {
      "metadata": {
        "id": "EqJozDCfXqUU",
        "colab_type": "code",
        "colab": {
          "base_uri": "https://localhost:8080/",
          "height": 306
        },
        "outputId": "cddbe4d0-9a1d-42c2-fdea-112c8f152b36"
      },
      "cell_type": "code",
      "source": [
        "#Sample utterances from the speaker\n",
        "m_1h = one_hot(t.LongTensor(list(vocab.keys())).unsqueeze(-1), N_MEANINGS)\n",
        "sample_speaker(m_1h,speaker_agent)\n",
        "print(eval_speaker_ideal_listener(m_1h, speaker_agent, n_trials = 100))"
      ],
      "execution_count": 21,
      "outputs": [
        {
          "output_type": "stream",
          "text": [
            "Meaning: 0, Speaker: tensor([8], device='cuda:0')\n",
            "Meaning: 1, Speaker: tensor([5], device='cuda:0')\n",
            "Meaning: 2, Speaker: tensor([12], device='cuda:0')\n",
            "Meaning: 3, Speaker: tensor([5], device='cuda:0')\n",
            "Meaning: 4, Speaker: tensor([8], device='cuda:0')\n",
            "Meaning: 5, Speaker: tensor([11], device='cuda:0')\n",
            "Meaning: 6, Speaker: tensor([12], device='cuda:0')\n",
            "Meaning: 7, Speaker: tensor([15], device='cuda:0')\n",
            "Meaning: 8, Speaker: tensor([5], device='cuda:0')\n",
            "Meaning: 9, Speaker: tensor([15], device='cuda:0')\n",
            "Meaning: 10, Speaker: tensor([3], device='cuda:0')\n",
            "Meaning: 11, Speaker: tensor([8], device='cuda:0')\n",
            "Meaning: 12, Speaker: tensor([11], device='cuda:0')\n",
            "Meaning: 13, Speaker: tensor([5], device='cuda:0')\n",
            "Meaning: 14, Speaker: tensor([8], device='cuda:0')\n",
            "Meaning: 15, Speaker: tensor([8], device='cuda:0')\n",
            "0.47375\n"
          ],
          "name": "stdout"
        }
      ]
    },
    {
      "metadata": {
        "id": "U7E6Hs6wdzno",
        "colab_type": "text"
      },
      "cell_type": "markdown",
      "source": [
        "### RL Joint Train"
      ]
    },
    {
      "metadata": {
        "id": "Bmq2RItmd2T-",
        "colab_type": "code",
        "colab": {}
      },
      "cell_type": "code",
      "source": [
        "def rl_joint_train(speaker, listener, vocab, opt, n_epochs, n_batch, verbose = False, verbose_rate = 250):\n",
        "    #training parameters\n",
        "\n",
        "    g = graph(epoch = [], loss = [], acc = [])\n",
        "\n",
        "    original_meanings = list(vocab.keys())\n",
        "    shuffled_meanings = list(original_meanings)\n",
        "\n",
        "    for epoch in range(n_epochs):\n",
        "        random.shuffle(shuffled_meanings)\n",
        "    \n",
        "        batch_meanings = shuffled_meanings[:n_batch]\n",
        "        batch_meanings_1h = one_hot(t.LongTensor(batch_meanings*10).unsqueeze(-1), N_MEANINGS)\n",
        "        loss = rl_step(speaker_agent, listener_agent,  \n",
        "                       batch_meanings_1h,\n",
        "                       opt)\n",
        "\n",
        "        if(epoch % verbose_rate == 0):\n",
        "            acc = eval_joint_acc(batch_meanings_1h, speaker, listener, n_trials = 100).mean()\n",
        "\n",
        "            g.epoch.append(epoch)\n",
        "            g.loss.append(loss)\n",
        "            g.acc.append(acc)\n",
        "            if(verbose):\n",
        "                print(f\"epoch: {epoch}, loss: {loss}, acc: {acc}\")\n",
        "\n",
        "    return g\n",
        "\n",
        "if False:\n",
        "    #initialize agent and vocab\n",
        "    speaker_agent = Speaker(meaning_size = N_MEANINGS, action_size = N_ACTIONS, max_u_len = U_LEN, **HYPERPARAMETERS).to(device)\n",
        "    listener_agent = Listener(meaning_size = N_MEANINGS, action_size = N_ACTIONS, max_u_len = U_LEN, **HYPERPARAMETERS).to(device)\n",
        "    params = list(speaker_agent.parameters()) + list(listener_agent.parameters())\n",
        "    opt = torch.optim.Adam(params, lr = 7e-3, weight_decay = 1e-4)\n",
        "    vocab = generate_vocab()\n",
        "\n",
        "\n",
        "    g = rl_joint_train(speaker_agent, listener_agent, vocab, opt, n_epochs = 10000, n_batch = N_MEANINGS, verbose = True)\n",
        "    \n",
        "    plt.subplot(2,1,1)\n",
        "    plt.plot(g.epoch,g.loss)\n",
        "    plt.xlabel('epochs')\n",
        "    plt.ylabel('loss')\n",
        "\n",
        "    plt.subplot(2,1,2)\n",
        "    plt.plot(g.epoch,g.acc)\n",
        "    plt.xlabel('epochs')\n",
        "    plt.ylabel('acc')\n",
        "    plt.show()\n"
      ],
      "execution_count": 0,
      "outputs": []
    },
    {
      "metadata": {
        "id": "Yln5eS2t9i6Q",
        "colab_type": "text"
      },
      "cell_type": "markdown",
      "source": [
        "## Test"
      ]
    },
    {
      "metadata": {
        "id": "lAI1pMQMyKQo",
        "colab_type": "code",
        "colab": {
          "base_uri": "https://localhost:8080/",
          "height": 1331
        },
        "outputId": "76487b2b-87ea-46dc-a029-bcbb199273c6"
      },
      "cell_type": "code",
      "source": [
        "param_list1 = [(16,16,1),(16,4,2),(16,2,4)]\n",
        "param_list2 = [(64,64,1),(64,8,2),(64,4,3),(64,2,6)]\n",
        "\n",
        "exps = {i:param_list1[i] for i in range(3)}\n",
        "graphs = {}\n",
        "\n",
        "\n",
        "\n",
        "\n",
        "for _ in range(3):\n",
        "    print(f\"Trial #{i}\")\n",
        "    vocab = generate_vocab()\n",
        "    for i in exps:\n",
        "        print(f\"Training: {exps[i]}\")\n",
        "        N_MEANINGS, N_ACTIONS, U_LEN =  exps[i]\n",
        "        speaker_agent = Speaker(meaning_size = N_MEANINGS, action_size = N_ACTIONS, max_u_len = U_LEN, **HYPERPARAMETERS).to(device)\n",
        "        listener_agent = Listener(meaning_size = N_MEANINGS, action_size = N_ACTIONS, max_u_len = U_LEN, **HYPERPARAMETERS).to(device)\n",
        "        params = list(speaker_agent.parameters()) + list(listener_agent.parameters())\n",
        "        opt = torch.optim.Adam(params, lr = 7e-3, weight_decay = 1e-4)\n",
        "        graphs[i+_] = rl_joint_train(speaker_agent, listener_agent, vocab, opt, n_epochs = 10000, n_batch = N_MEANINGS, verbose = False)\n",
        "    \n",
        "    FIG_SIZE = (6,6)\n",
        "    plt.figure(figsize = FIG_SIZE)\n",
        "    for i in range(3):\n",
        "        plt.plot(graphs[i+_].epoch, graphs[i+_].acc, label = str(list(zip([\"meanings\",\"actions\",\"ulen\"],exps[i]))))\n",
        "\n",
        "    plt.legend(loc = 1, bbox_to_anchor=(1.7,1.))\n",
        "    plt.xlabel('epochs')\n",
        "    plt.ylabel('acc')\n",
        "    plt.title(str(HYPERPARAMETERS))\n",
        "    plt.show()\n"
      ],
      "execution_count": 26,
      "outputs": [
        {
          "output_type": "stream",
          "text": [
            "Trial #0\n",
            "Trial #1\n",
            "Trial #2\n"
          ],
          "name": "stdout"
        },
        {
          "output_type": "display_data",
          "data": {
            "image/png": "[encoded data removed]",
            "text/plain": [
              "<Figure size 432x432 with 1 Axes>"
            ]
          },
          "metadata": {
            "tags": []
          }
        },
        {
          "output_type": "stream",
          "text": [
            "Trial #0\n",
            "Trial #1\n",
            "Trial #2\n"
          ],
          "name": "stdout"
        },
        {
          "output_type": "display_data",
          "data": {
            "image/png": "[encoded data removed]",
            "text/plain": [
              "<Figure size 432x432 with 1 Axes>"
            ]
          },
          "metadata": {
            "tags": []
          }
        },
        {
          "output_type": "stream",
          "text": [
            "Trial #0\n",
            "Trial #1\n",
            "Trial #2\n"
          ],
          "name": "stdout"
        },
        {
          "output_type": "display_data",
          "data": {
            "image/png": "[encoded data removed]",
            "text/plain": [
              "<Figure size 432x432 with 1 Axes>"
            ]
          },
          "metadata": {
            "tags": []
          }
        }
      ]
    },
    {
      "metadata": {
        "id": "IjgOyWq3Ox8A",
        "colab_type": "text"
      },
      "cell_type": "markdown",
      "source": [
        "## Misc."
      ]
    },
    {
      "metadata": {
        "id": "eMI-YpRx1Jcv",
        "colab_type": "code",
        "colab": {}
      },
      "cell_type": "code",
      "source": [
        "# FIG_SIZE = (15,15)\n",
        "\n",
        "# # plt.subplots_adjust(wspace=20., hspace=20.)\n",
        "# plt.figure(figsize = FIG_SIZE)\n",
        "# for i in range(3):\n",
        "#     plt.subplot(3,2,(i*2 + 1))\n",
        "#     plt.plot(graphs[i].epoch,graphs[i].loss)\n",
        "#     plt.xlabel('epochs')\n",
        "#     plt.ylabel('loss')\n",
        "#     plt.title(list(zip([\"meanings\",\"actions\",\"ulen\"],exps[i])))\n",
        "    \n",
        "#     plt.subplot(3,2,(i*2 + 2))\n",
        "#     plt.plot(graphs[i].epoch,graphs[i].acc)\n",
        "#     plt.xlabel('epochs')\n",
        "#     plt.ylabel('acc')\n",
        "#     plt.title(list(zip([\"meanings\",\"actions\",\"ulen\"],exps[i])))\n",
        "# plt.show()\n",
        "\n",
        "FIG_SIZE = (8,8)\n",
        "plt.figure(figsize = FIG_SIZE)\n",
        "print(graphs[0])\n",
        "for _ in range(3):\n",
        "    for i in range(3):\n",
        "        print(i+_)\n",
        "        plt.plot(graphs[i+_].epoch, graphs[i].acc, label = str(list(zip([\"meanings\",\"actions\",\"ulen\"],exps[i]))))\n",
        "\n",
        "    plt.legend(loc = 1, bbox_to_anchor=(1.7,1.))\n",
        "    plt.xlabel('epochs')\n",
        "    plt.ylabel('acc')\n",
        "    plt.title(str(HYPERPARAMETERS))\n",
        "    plt.show()"
      ],
      "execution_count": 0,
      "outputs": []
    },
    {
      "metadata": {
        "id": "fIqh9NSr9j1y",
        "colab_type": "code",
        "colab": {}
      },
      "cell_type": "code",
      "source": [
        "#initialize agent and vocab\n",
        "vocab = generate_vocab()\n",
        "\n",
        "speaker_agent = Speaker(meaning_size = N_MEANINGS, action_size = N_ACTIONS, max_u_len = U_LEN, **HYPERPARAMETERS).to(device)\n",
        "params = list(speaker_agent.parameters())\n",
        "\n",
        "schedule = [(100,1e-1),\n",
        "            (200,1e-2),\n",
        "            (300,1e-3),\n",
        "            (1000,1e-4)]\n",
        "for _ in range(2):\n",
        "    for i in range(len(schedule)):\n",
        "        scheduled_n_epochs = schedule[i][0]\n",
        "        scheduled_lr = schedule[i][1]\n",
        "        opt = torch.optim.Adam(params, lr = scheduled_lr, weight_decay = 0.0)\n",
        "        speaker_train_on_vocab(speaker_agent, vocab, opt, n_epochs = scheduled_n_epochs, n_batch = N_MEANINGS, verbose = False)"
      ],
      "execution_count": 0,
      "outputs": []
    },
    {
      "metadata": {
        "id": "31CTQ_fJV3DF",
        "colab_type": "code",
        "colab": {}
      },
      "cell_type": "code",
      "source": [
        "# speaker_agent = Speaker(meaning_size = N_MEANINGS, action_size = N_ACTIONS, max_u_len = U_LEN, **HYPERPARAMETERS).to(device)\n",
        "listener_agent = Listener(meaning_size = N_MEANINGS, action_size = N_ACTIONS, max_u_len = U_LEN, **HYPERPARAMETERS).to(device)\n",
        "params = list(listener_agent.parameters())\n",
        "opt = torch.optim.Adam(params, lr = 1e-2, weight_decay = 0.0)\n",
        "rl_joint_train(speaker_agent, listener_agent, vocab, opt, n_epochs = 10000, n_batch = N_MEANINGS, verbose = True)\n"
      ],
      "execution_count": 0,
      "outputs": []
    },
    {
      "metadata": {
        "id": "TOwU7a1jhPFD",
        "colab_type": "code",
        "colab": {}
      },
      "cell_type": "code",
      "source": [
        "!pip freeze"
      ],
      "execution_count": 0,
      "outputs": []
    }
  ]
}